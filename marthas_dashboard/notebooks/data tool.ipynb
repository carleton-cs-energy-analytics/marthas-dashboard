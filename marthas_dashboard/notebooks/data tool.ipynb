{
 "cells": [
  {
   "cell_type": "code",
   "execution_count": 1,
   "metadata": {},
   "outputs": [],
   "source": [
    "import sys\n",
    "sys.path.insert(0, '..')\n",
    "\n",
    "import pandas as pd\n",
    "from marthas_dashboard.api import API"
   ]
  },
  {
   "cell_type": "code",
   "execution_count": 2,
   "metadata": {},
   "outputs": [],
   "source": [
    "api = API()"
   ]
  },
  {
   "cell_type": "markdown",
   "metadata": {},
   "source": [
    "## Load / View Data"
   ]
  },
  {
   "cell_type": "code",
   "execution_count": 3,
   "metadata": {},
   "outputs": [],
   "source": [
    "from ipywidgets import interact, interactive, fixed, interact_manual\n",
    "import ipywidgets as widgets"
   ]
  },
  {
   "cell_type": "code",
   "execution_count": 4,
   "metadata": {
    "scrolled": true
   },
   "outputs": [],
   "source": [
    "d = api.buildings()\n",
    "bldings = list(d.values())"
   ]
  },
  {
   "cell_type": "code",
   "execution_count": 5,
   "metadata": {
    "scrolled": false
   },
   "outputs": [
    {
     "data": {
      "application/vnd.jupyter.widget-view+json": {
       "model_id": "21925ecc709f4e789df835f3cb9c4243",
       "version_major": 2,
       "version_minor": 0
      },
      "text/html": [
       "<p>Failed to display Jupyter Widget of type <code>interactive</code>.</p>\n",
       "<p>\n",
       "  If you're reading this message in the Jupyter Notebook or JupyterLab Notebook, it may mean\n",
       "  that the widgets JavaScript is still loading. If this message persists, it\n",
       "  likely means that the widgets JavaScript library is either not installed or\n",
       "  not enabled. See the <a href=\"https://ipywidgets.readthedocs.io/en/stable/user_install.html\">Jupyter\n",
       "  Widgets Documentation</a> for setup instructions.\n",
       "</p>\n",
       "<p>\n",
       "  If you're reading this message in another frontend (for example, a static\n",
       "  rendering on GitHub or <a href=\"https://nbviewer.jupyter.org/\">NBViewer</a>),\n",
       "  it may mean that your frontend doesn't currently support widgets.\n",
       "</p>\n"
      ],
      "text/plain": [
       "interactive(children=(Dropdown(description='blding', options=('Boliou Hall', 'Burton Hall', 'CMC', 'Cassat Hall', 'Cassat Hall/James Hall', 'Cowling Gym', 'Davis Hall', 'Evans', 'Evans Hall', 'Faculty Club', 'Goodhue', 'Goodhue Hall', 'Goodsell', 'Gould Library', 'Hulings', 'Hulings Hall', 'James', 'James Hall', 'LDC', 'Laird Hall', 'Leighton Hall', 'Leighton Hall ', 'Libe', 'Main Campus', 'Music Hall', 'Musser Hall', 'Myers Hall', 'Nourse Hall', 'Olin Hall', 'Olin Hall ', 'Rec', 'Recreation Center', 'Sayles-Hill Campus Center', 'Scoville Hall', 'Severance Hall', 'Skinner Chapel', 'Student Townhouses', 'Watson Hall', 'Weitz Center for Creativity', 'West Gym', 'Willis Hall'), value='Boliou Hall'), Output()), _dom_classes=('widget-interact',))"
      ]
     },
     "metadata": {},
     "output_type": "display_data"
    }
   ],
   "source": [
    "@interact(blding=bldings)\n",
    "def get_df(blding):\n",
    "    bld = api.building(blding).id\n",
    "    timestamp = '2017-08-18 00:45:00'\n",
    "\n",
    "    # Load some data\n",
    "    rooms = api.building_rooms(bld)\n",
    "    points = api.building_points(bld)\n",
    "    vals = api.building_values_at_time(bld, timestamp)\n",
    "    \n",
    "    # Display first five entries of each\n",
    "    display(rooms.head(), f\"len: {len(rooms)}\")\n",
    "    display(points.head(), f\"len: {len(points)}\")\n",
    "    display(vals.head(), f\"len: {len(vals)}\")"
   ]
  },
  {
   "cell_type": "code",
   "execution_count": null,
   "metadata": {},
   "outputs": [],
   "source": []
  }
 ],
 "metadata": {
  "kernelspec": {
   "display_name": "Python 3",
   "language": "python",
   "name": "python3"
  },
  "language_info": {
   "codemirror_mode": {
    "name": "ipython",
    "version": 3
   },
   "file_extension": ".py",
   "mimetype": "text/x-python",
   "name": "python",
   "nbconvert_exporter": "python",
   "pygments_lexer": "ipython3",
   "version": "3.6.4"
  },
  "widgets": {
   "application/vnd.jupyter.widget-state+json": {
    "state": {
     "0016fe4829ca454488c82a4daf0c02e7": {
      "model_module": "@jupyter-widgets/controls",
      "model_module_version": "1.1.0",
      "model_name": "DropdownModel",
      "state": {
       "_options_labels": [
        "Boliou Hall",
        "Burton Hall",
        "CMC",
        "Cassat Hall",
        "Cassat Hall/James Hall",
        "Cowling Gym",
        "Davis Hall",
        "Evans",
        "Evans Hall",
        "Faculty Club",
        "Goodhue",
        "Goodhue Hall",
        "Goodsell",
        "Gould Library",
        "Hulings",
        "Hulings Hall",
        "James",
        "James Hall",
        "LDC",
        "Laird Hall",
        "Leighton Hall",
        "Leighton Hall ",
        "Libe",
        "Main Campus",
        "Music Hall",
        "Musser Hall",
        "Myers Hall",
        "Nourse Hall",
        "Olin Hall",
        "Olin Hall ",
        "Rec",
        "Recreation Center",
        "Sayles-Hill Campus Center",
        "Scoville Hall",
        "Severance Hall",
        "Skinner Chapel",
        "Student Townhouses",
        "Watson Hall",
        "Weitz Center for Creativity",
        "West Gym",
        "Willis Hall"
       ],
       "description": "blding",
       "index": 0,
       "layout": "IPY_MODEL_6f26d502b90f4675bfa73df5335e39b4",
       "style": "IPY_MODEL_e5011b26836d41a9ba3041e992f99d8d"
      }
     },
     "1b0a5fa3b6b24df1b1ca39e7a78c010c": {
      "model_module": "@jupyter-widgets/base",
      "model_module_version": "1.0.0",
      "model_name": "LayoutModel",
      "state": {}
     },
     "31e1bb556efe493081e4259f2635d7ed": {
      "model_module": "@jupyter-widgets/controls",
      "model_module_version": "1.1.0",
      "model_name": "VBoxModel",
      "state": {
       "_dom_classes": [
        "widget-interact"
       ],
       "children": [
        "IPY_MODEL_81006f4165784139b65ed5efc5da2de4",
        "IPY_MODEL_50c288fb7e8248a89ddae9a3ab33c91a"
       ],
       "layout": "IPY_MODEL_46e9103f17d44f5f9d168a6d63846e1e"
      }
     },
     "46e9103f17d44f5f9d168a6d63846e1e": {
      "model_module": "@jupyter-widgets/base",
      "model_module_version": "1.0.0",
      "model_name": "LayoutModel",
      "state": {}
     },
     "4c2c63579e8c40b68c7db6e5fcc4b801": {
      "model_module": "@jupyter-widgets/base",
      "model_module_version": "1.0.0",
      "model_name": "LayoutModel",
      "state": {}
     },
     "4e0160a6c3e347abb42dd06e5bd95512": {
      "model_module": "@jupyter-widgets/base",
      "model_module_version": "1.0.0",
      "model_name": "LayoutModel",
      "state": {}
     },
     "50c288fb7e8248a89ddae9a3ab33c91a": {
      "model_module": "@jupyter-widgets/output",
      "model_module_version": "1.0.0",
      "model_name": "OutputModel",
      "state": {
       "layout": "IPY_MODEL_e9c348a5379b495381ec70ee5c31b2e7",
       "outputs": [
        {
         "data": {
          "text/html": "<div>\n<style scoped>\n    .dataframe tbody tr th:only-of-type {\n        vertical-align: middle;\n    }\n\n    .dataframe tbody tr th {\n        vertical-align: top;\n    }\n\n    .dataframe thead th {\n        text-align: right;\n    }\n</style>\n<table border=\"1\" class=\"dataframe\">\n  <thead>\n    <tr style=\"text-align: right;\">\n      <th></th>\n      <th>buildingid</th>\n      <th>id</th>\n      <th>name</th>\n    </tr>\n  </thead>\n  <tbody>\n    <tr>\n      <th>0</th>\n      <td>38</td>\n      <td>52</td>\n      <td>Boliou Hall_Dummy_Room</td>\n    </tr>\n  </tbody>\n</table>\n</div>",
          "text/plain": "   buildingid  id                    name\n0          38  52  Boliou Hall_Dummy_Room"
         },
         "metadata": {},
         "output_type": "display_data"
        },
        {
         "data": {
          "text/plain": "'len: 1'"
         },
         "metadata": {},
         "output_type": "display_data"
        },
        {
         "data": {
          "text/html": "<div>\n<style scoped>\n    .dataframe tbody tr th:only-of-type {\n        vertical-align: middle;\n    }\n\n    .dataframe tbody tr th {\n        vertical-align: top;\n    }\n\n    .dataframe thead th {\n        text-align: right;\n    }\n</style>\n<table border=\"1\" class=\"dataframe\">\n  <thead>\n    <tr style=\"text-align: right;\">\n      <th></th>\n      <th>description</th>\n      <th>equipmentid</th>\n      <th>id</th>\n      <th>name</th>\n      <th>pointsourceid</th>\n      <th>pointtypeid</th>\n      <th>roomid</th>\n    </tr>\n  </thead>\n  <tbody>\n    <tr>\n      <th>0</th>\n      <td>Electricity (kWh)</td>\n      <td>NaN</td>\n      <td>1642</td>\n      <td>Boliou Hall - Electricity</td>\n      <td>1</td>\n      <td>4089</td>\n      <td>52</td>\n    </tr>\n    <tr>\n      <th>1</th>\n      <td>Electricity_Shark Meter Test (kWh)</td>\n      <td>NaN</td>\n      <td>1643</td>\n      <td>Boliou Hall - Electricity_Shark Meter Test</td>\n      <td>1</td>\n      <td>4090</td>\n      <td>52</td>\n    </tr>\n    <tr>\n      <th>2</th>\n      <td>Steam Condensate (kBTU)</td>\n      <td>NaN</td>\n      <td>1644</td>\n      <td>Boliou Hall - Steam Condensate</td>\n      <td>1</td>\n      <td>4091</td>\n      <td>52</td>\n    </tr>\n  </tbody>\n</table>\n</div>",
          "text/plain": "                          description  equipmentid    id  \\\n0                   Electricity (kWh)          NaN  1642   \n1  Electricity_Shark Meter Test (kWh)          NaN  1643   \n2             Steam Condensate (kBTU)          NaN  1644   \n\n                                          name  pointsourceid  pointtypeid  \\\n0                   Boliou Hall - Electricity               1         4089   \n1  Boliou Hall - Electricity_Shark Meter Test               1         4090   \n2              Boliou Hall - Steam Condensate               1         4091   \n\n   roomid  \n0      52  \n1      52  \n2      52  "
         },
         "metadata": {},
         "output_type": "display_data"
        },
        {
         "data": {
          "text/plain": "'len: 3'"
         },
         "metadata": {},
         "output_type": "display_data"
        },
        {
         "data": {
          "text/html": "<div>\n<style scoped>\n    .dataframe tbody tr th:only-of-type {\n        vertical-align: middle;\n    }\n\n    .dataframe tbody tr th {\n        vertical-align: top;\n    }\n\n    .dataframe thead th {\n        text-align: right;\n    }\n</style>\n<table border=\"1\" class=\"dataframe\">\n  <thead>\n    <tr style=\"text-align: right;\">\n      <th></th>\n    </tr>\n  </thead>\n  <tbody>\n  </tbody>\n</table>\n</div>",
          "text/plain": "Empty DataFrame\nColumns: []\nIndex: []"
         },
         "metadata": {},
         "output_type": "display_data"
        },
        {
         "data": {
          "text/plain": "'len: 0'"
         },
         "metadata": {},
         "output_type": "display_data"
        }
       ]
      }
     },
     "6f26d502b90f4675bfa73df5335e39b4": {
      "model_module": "@jupyter-widgets/base",
      "model_module_version": "1.0.0",
      "model_name": "LayoutModel",
      "state": {}
     },
     "7efa01cb3df346f7990e988d8ca955d5": {
      "model_module": "@jupyter-widgets/controls",
      "model_module_version": "1.1.0",
      "model_name": "VBoxModel",
      "state": {
       "_dom_classes": [
        "widget-interact"
       ],
       "children": [
        "IPY_MODEL_0016fe4829ca454488c82a4daf0c02e7",
        "IPY_MODEL_d2da95c126c34f098caa61509a39f5c0"
       ],
       "layout": "IPY_MODEL_1b0a5fa3b6b24df1b1ca39e7a78c010c"
      }
     },
     "81006f4165784139b65ed5efc5da2de4": {
      "model_module": "@jupyter-widgets/controls",
      "model_module_version": "1.1.0",
      "model_name": "DropdownModel",
      "state": {
       "_options_labels": [
        "Boliou Hall",
        "Burton Hall",
        "CMC",
        "Cassat Hall",
        "Cassat Hall/James Hall",
        "Cowling Gym",
        "Davis Hall",
        "Evans",
        "Evans Hall",
        "Faculty Club",
        "Goodhue",
        "Goodhue Hall",
        "Goodsell",
        "Gould Library",
        "Hulings",
        "Hulings Hall",
        "James",
        "James Hall",
        "LDC",
        "Laird Hall",
        "Leighton Hall",
        "Leighton Hall ",
        "Libe",
        "Main Campus",
        "Music Hall",
        "Musser Hall",
        "Myers Hall",
        "Nourse Hall",
        "Olin Hall",
        "Olin Hall ",
        "Rec",
        "Recreation Center",
        "Sayles-Hill Campus Center",
        "Scoville Hall",
        "Severance Hall",
        "Skinner Chapel",
        "Student Townhouses",
        "Watson Hall",
        "Weitz Center for Creativity",
        "West Gym",
        "Willis Hall"
       ],
       "description": "blding",
       "index": 0,
       "layout": "IPY_MODEL_4c2c63579e8c40b68c7db6e5fcc4b801",
       "style": "IPY_MODEL_e75081595d7345829d95fe0e73e76445"
      }
     },
     "d2da95c126c34f098caa61509a39f5c0": {
      "model_module": "@jupyter-widgets/output",
      "model_module_version": "1.0.0",
      "model_name": "OutputModel",
      "state": {
       "layout": "IPY_MODEL_4e0160a6c3e347abb42dd06e5bd95512",
       "outputs": [
        {
         "data": {
          "text/html": "<div>\n<style scoped>\n    .dataframe tbody tr th:only-of-type {\n        vertical-align: middle;\n    }\n\n    .dataframe tbody tr th {\n        vertical-align: top;\n    }\n\n    .dataframe thead th {\n        text-align: right;\n    }\n</style>\n<table border=\"1\" class=\"dataframe\">\n  <thead>\n    <tr style=\"text-align: right;\">\n      <th></th>\n      <th>buildingid</th>\n      <th>id</th>\n      <th>name</th>\n    </tr>\n  </thead>\n  <tbody>\n    <tr>\n      <th>0</th>\n      <td>38</td>\n      <td>52</td>\n      <td>Boliou Hall_Dummy_Room</td>\n    </tr>\n  </tbody>\n</table>\n</div>",
          "text/plain": "   buildingid  id                    name\n0          38  52  Boliou Hall_Dummy_Room"
         },
         "metadata": {},
         "output_type": "display_data"
        },
        {
         "data": {
          "text/plain": "'len: 1'"
         },
         "metadata": {},
         "output_type": "display_data"
        },
        {
         "data": {
          "text/html": "<div>\n<style scoped>\n    .dataframe tbody tr th:only-of-type {\n        vertical-align: middle;\n    }\n\n    .dataframe tbody tr th {\n        vertical-align: top;\n    }\n\n    .dataframe thead th {\n        text-align: right;\n    }\n</style>\n<table border=\"1\" class=\"dataframe\">\n  <thead>\n    <tr style=\"text-align: right;\">\n      <th></th>\n      <th>description</th>\n      <th>equipmentid</th>\n      <th>id</th>\n      <th>name</th>\n      <th>pointsourceid</th>\n      <th>pointtypeid</th>\n      <th>roomid</th>\n    </tr>\n  </thead>\n  <tbody>\n    <tr>\n      <th>0</th>\n      <td>Electricity (kWh)</td>\n      <td>NaN</td>\n      <td>1642</td>\n      <td>Boliou Hall - Electricity</td>\n      <td>1</td>\n      <td>4089</td>\n      <td>52</td>\n    </tr>\n    <tr>\n      <th>1</th>\n      <td>Electricity_Shark Meter Test (kWh)</td>\n      <td>NaN</td>\n      <td>1643</td>\n      <td>Boliou Hall - Electricity_Shark Meter Test</td>\n      <td>1</td>\n      <td>4090</td>\n      <td>52</td>\n    </tr>\n    <tr>\n      <th>2</th>\n      <td>Steam Condensate (kBTU)</td>\n      <td>NaN</td>\n      <td>1644</td>\n      <td>Boliou Hall - Steam Condensate</td>\n      <td>1</td>\n      <td>4091</td>\n      <td>52</td>\n    </tr>\n  </tbody>\n</table>\n</div>",
          "text/plain": "                          description  equipmentid    id  \\\n0                   Electricity (kWh)          NaN  1642   \n1  Electricity_Shark Meter Test (kWh)          NaN  1643   \n2             Steam Condensate (kBTU)          NaN  1644   \n\n                                          name  pointsourceid  pointtypeid  \\\n0                   Boliou Hall - Electricity               1         4089   \n1  Boliou Hall - Electricity_Shark Meter Test               1         4090   \n2              Boliou Hall - Steam Condensate               1         4091   \n\n   roomid  \n0      52  \n1      52  \n2      52  "
         },
         "metadata": {},
         "output_type": "display_data"
        },
        {
         "data": {
          "text/plain": "'len: 3'"
         },
         "metadata": {},
         "output_type": "display_data"
        },
        {
         "data": {
          "text/html": "<div>\n<style scoped>\n    .dataframe tbody tr th:only-of-type {\n        vertical-align: middle;\n    }\n\n    .dataframe tbody tr th {\n        vertical-align: top;\n    }\n\n    .dataframe thead th {\n        text-align: right;\n    }\n</style>\n<table border=\"1\" class=\"dataframe\">\n  <thead>\n    <tr style=\"text-align: right;\">\n      <th></th>\n    </tr>\n  </thead>\n  <tbody>\n  </tbody>\n</table>\n</div>",
          "text/plain": "Empty DataFrame\nColumns: []\nIndex: []"
         },
         "metadata": {},
         "output_type": "display_data"
        },
        {
         "data": {
          "text/plain": "'len: 0'"
         },
         "metadata": {},
         "output_type": "display_data"
        }
       ]
      }
     },
     "e5011b26836d41a9ba3041e992f99d8d": {
      "model_module": "@jupyter-widgets/controls",
      "model_module_version": "1.1.0",
      "model_name": "DescriptionStyleModel",
      "state": {
       "description_width": ""
      }
     },
     "e75081595d7345829d95fe0e73e76445": {
      "model_module": "@jupyter-widgets/controls",
      "model_module_version": "1.1.0",
      "model_name": "DescriptionStyleModel",
      "state": {
       "description_width": ""
      }
     },
     "e9c348a5379b495381ec70ee5c31b2e7": {
      "model_module": "@jupyter-widgets/base",
      "model_module_version": "1.0.0",
      "model_name": "LayoutModel",
      "state": {}
     }
    },
    "version_major": 2,
    "version_minor": 0
   }
  }
 },
 "nbformat": 4,
 "nbformat_minor": 2
}
