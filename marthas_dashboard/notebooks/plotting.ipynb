{
 "cells": [
  {
   "cell_type": "code",
   "execution_count": 1,
   "metadata": {},
   "outputs": [
    {
     "data": {
      "text/html": [
       "\n",
       "    <div class=\"bk-root\">\n",
       "        <a href=\"https://bokeh.pydata.org\" target=\"_blank\" class=\"bk-logo bk-logo-small bk-logo-notebook\"></a>\n",
       "        <span id=\"62c067af-109a-47f5-b5a6-9afab95fb7ac\">Loading BokehJS ...</span>\n",
       "    </div>"
      ]
     },
     "metadata": {},
     "output_type": "display_data"
    },
    {
     "data": {
      "application/javascript": [
       "\n",
       "(function(root) {\n",
       "  function now() {\n",
       "    return new Date();\n",
       "  }\n",
       "\n",
       "  var force = true;\n",
       "\n",
       "  if (typeof (root._bokeh_onload_callbacks) === \"undefined\" || force === true) {\n",
       "    root._bokeh_onload_callbacks = [];\n",
       "    root._bokeh_is_loading = undefined;\n",
       "  }\n",
       "\n",
       "  var JS_MIME_TYPE = 'application/javascript';\n",
       "  var HTML_MIME_TYPE = 'text/html';\n",
       "  var EXEC_MIME_TYPE = 'application/vnd.bokehjs_exec.v0+json';\n",
       "  var CLASS_NAME = 'output_bokeh rendered_html';\n",
       "\n",
       "  /**\n",
       "   * Render data to the DOM node\n",
       "   */\n",
       "  function render(props, node) {\n",
       "    var script = document.createElement(\"script\");\n",
       "    node.appendChild(script);\n",
       "  }\n",
       "\n",
       "  /**\n",
       "   * Handle when an output is cleared or removed\n",
       "   */\n",
       "  function handleClearOutput(event, handle) {\n",
       "    var cell = handle.cell;\n",
       "\n",
       "    var id = cell.output_area._bokeh_element_id;\n",
       "    var server_id = cell.output_area._bokeh_server_id;\n",
       "    // Clean up Bokeh references\n",
       "    if (id !== undefined) {\n",
       "      Bokeh.index[id].model.document.clear();\n",
       "      delete Bokeh.index[id];\n",
       "    }\n",
       "\n",
       "    if (server_id !== undefined) {\n",
       "      // Clean up Bokeh references\n",
       "      var cmd = \"from bokeh.io.state import curstate; print(curstate().uuid_to_server['\" + server_id + \"'].get_sessions()[0].document.roots[0]._id)\";\n",
       "      cell.notebook.kernel.execute(cmd, {\n",
       "        iopub: {\n",
       "          output: function(msg) {\n",
       "            var element_id = msg.content.text.trim();\n",
       "            Bokeh.index[element_id].model.document.clear();\n",
       "            delete Bokeh.index[element_id];\n",
       "          }\n",
       "        }\n",
       "      });\n",
       "      // Destroy server and session\n",
       "      var cmd = \"import bokeh.io.notebook as ion; ion.destroy_server('\" + server_id + \"')\";\n",
       "      cell.notebook.kernel.execute(cmd);\n",
       "    }\n",
       "  }\n",
       "\n",
       "  /**\n",
       "   * Handle when a new output is added\n",
       "   */\n",
       "  function handleAddOutput(event, handle) {\n",
       "    var output_area = handle.output_area;\n",
       "    var output = handle.output;\n",
       "\n",
       "    // limit handleAddOutput to display_data with EXEC_MIME_TYPE content only\n",
       "    if ((output.output_type != \"display_data\") || (!output.data.hasOwnProperty(EXEC_MIME_TYPE))) {\n",
       "      return\n",
       "    }\n",
       "\n",
       "    var toinsert = output_area.element.find(\".\" + CLASS_NAME.split(' ')[0]);\n",
       "\n",
       "    if (output.metadata[EXEC_MIME_TYPE][\"id\"] !== undefined) {\n",
       "      toinsert[0].firstChild.textContent = output.data[JS_MIME_TYPE];\n",
       "      // store reference to embed id on output_area\n",
       "      output_area._bokeh_element_id = output.metadata[EXEC_MIME_TYPE][\"id\"];\n",
       "    }\n",
       "    if (output.metadata[EXEC_MIME_TYPE][\"server_id\"] !== undefined) {\n",
       "      var bk_div = document.createElement(\"div\");\n",
       "      bk_div.innerHTML = output.data[HTML_MIME_TYPE];\n",
       "      var script_attrs = bk_div.children[0].attributes;\n",
       "      for (var i = 0; i < script_attrs.length; i++) {\n",
       "        toinsert[0].firstChild.setAttribute(script_attrs[i].name, script_attrs[i].value);\n",
       "      }\n",
       "      // store reference to server id on output_area\n",
       "      output_area._bokeh_server_id = output.metadata[EXEC_MIME_TYPE][\"server_id\"];\n",
       "    }\n",
       "  }\n",
       "\n",
       "  function register_renderer(events, OutputArea) {\n",
       "\n",
       "    function append_mime(data, metadata, element) {\n",
       "      // create a DOM node to render to\n",
       "      var toinsert = this.create_output_subarea(\n",
       "        metadata,\n",
       "        CLASS_NAME,\n",
       "        EXEC_MIME_TYPE\n",
       "      );\n",
       "      this.keyboard_manager.register_events(toinsert);\n",
       "      // Render to node\n",
       "      var props = {data: data, metadata: metadata[EXEC_MIME_TYPE]};\n",
       "      render(props, toinsert[0]);\n",
       "      element.append(toinsert);\n",
       "      return toinsert\n",
       "    }\n",
       "\n",
       "    /* Handle when an output is cleared or removed */\n",
       "    events.on('clear_output.CodeCell', handleClearOutput);\n",
       "    events.on('delete.Cell', handleClearOutput);\n",
       "\n",
       "    /* Handle when a new output is added */\n",
       "    events.on('output_added.OutputArea', handleAddOutput);\n",
       "\n",
       "    /**\n",
       "     * Register the mime type and append_mime function with output_area\n",
       "     */\n",
       "    OutputArea.prototype.register_mime_type(EXEC_MIME_TYPE, append_mime, {\n",
       "      /* Is output safe? */\n",
       "      safe: true,\n",
       "      /* Index of renderer in `output_area.display_order` */\n",
       "      index: 0\n",
       "    });\n",
       "  }\n",
       "\n",
       "  // register the mime type if in Jupyter Notebook environment and previously unregistered\n",
       "  if (root.Jupyter !== undefined) {\n",
       "    var events = require('base/js/events');\n",
       "    var OutputArea = require('notebook/js/outputarea').OutputArea;\n",
       "\n",
       "    if (OutputArea.prototype.mime_types().indexOf(EXEC_MIME_TYPE) == -1) {\n",
       "      register_renderer(events, OutputArea);\n",
       "    }\n",
       "  }\n",
       "\n",
       "  \n",
       "  if (typeof (root._bokeh_timeout) === \"undefined\" || force === true) {\n",
       "    root._bokeh_timeout = Date.now() + 5000;\n",
       "    root._bokeh_failed_load = false;\n",
       "  }\n",
       "\n",
       "  var NB_LOAD_WARNING = {'data': {'text/html':\n",
       "     \"<div style='background-color: #fdd'>\\n\"+\n",
       "     \"<p>\\n\"+\n",
       "     \"BokehJS does not appear to have successfully loaded. If loading BokehJS from CDN, this \\n\"+\n",
       "     \"may be due to a slow or bad network connection. Possible fixes:\\n\"+\n",
       "     \"</p>\\n\"+\n",
       "     \"<ul>\\n\"+\n",
       "     \"<li>re-rerun `output_notebook()` to attempt to load from CDN again, or</li>\\n\"+\n",
       "     \"<li>use INLINE resources instead, as so:</li>\\n\"+\n",
       "     \"</ul>\\n\"+\n",
       "     \"<code>\\n\"+\n",
       "     \"from bokeh.resources import INLINE\\n\"+\n",
       "     \"output_notebook(resources=INLINE)\\n\"+\n",
       "     \"</code>\\n\"+\n",
       "     \"</div>\"}};\n",
       "\n",
       "  function display_loaded() {\n",
       "    var el = document.getElementById(\"62c067af-109a-47f5-b5a6-9afab95fb7ac\");\n",
       "    if (el != null) {\n",
       "      el.textContent = \"BokehJS is loading...\";\n",
       "    }\n",
       "    if (root.Bokeh !== undefined) {\n",
       "      if (el != null) {\n",
       "        el.textContent = \"BokehJS \" + root.Bokeh.version + \" successfully loaded.\";\n",
       "      }\n",
       "    } else if (Date.now() < root._bokeh_timeout) {\n",
       "      setTimeout(display_loaded, 100)\n",
       "    }\n",
       "  }\n",
       "\n",
       "\n",
       "  function run_callbacks() {\n",
       "    try {\n",
       "      root._bokeh_onload_callbacks.forEach(function(callback) { callback() });\n",
       "    }\n",
       "    finally {\n",
       "      delete root._bokeh_onload_callbacks\n",
       "    }\n",
       "    console.info(\"Bokeh: all callbacks have finished\");\n",
       "  }\n",
       "\n",
       "  function load_libs(js_urls, callback) {\n",
       "    root._bokeh_onload_callbacks.push(callback);\n",
       "    if (root._bokeh_is_loading > 0) {\n",
       "      console.log(\"Bokeh: BokehJS is being loaded, scheduling callback at\", now());\n",
       "      return null;\n",
       "    }\n",
       "    if (js_urls == null || js_urls.length === 0) {\n",
       "      run_callbacks();\n",
       "      return null;\n",
       "    }\n",
       "    console.log(\"Bokeh: BokehJS not loaded, scheduling load and callback at\", now());\n",
       "    root._bokeh_is_loading = js_urls.length;\n",
       "    for (var i = 0; i < js_urls.length; i++) {\n",
       "      var url = js_urls[i];\n",
       "      var s = document.createElement('script');\n",
       "      s.src = url;\n",
       "      s.async = false;\n",
       "      s.onreadystatechange = s.onload = function() {\n",
       "        root._bokeh_is_loading--;\n",
       "        if (root._bokeh_is_loading === 0) {\n",
       "          console.log(\"Bokeh: all BokehJS libraries loaded\");\n",
       "          run_callbacks()\n",
       "        }\n",
       "      };\n",
       "      s.onerror = function() {\n",
       "        console.warn(\"failed to load library \" + url);\n",
       "      };\n",
       "      console.log(\"Bokeh: injecting script tag for BokehJS library: \", url);\n",
       "      document.getElementsByTagName(\"head\")[0].appendChild(s);\n",
       "    }\n",
       "  };var element = document.getElementById(\"62c067af-109a-47f5-b5a6-9afab95fb7ac\");\n",
       "  if (element == null) {\n",
       "    console.log(\"Bokeh: ERROR: autoload.js configured with elementid '62c067af-109a-47f5-b5a6-9afab95fb7ac' but no matching script tag was found. \")\n",
       "    return false;\n",
       "  }\n",
       "\n",
       "  var js_urls = [\"https://cdn.pydata.org/bokeh/release/bokeh-0.12.14.min.js\", \"https://cdn.pydata.org/bokeh/release/bokeh-widgets-0.12.14.min.js\", \"https://cdn.pydata.org/bokeh/release/bokeh-tables-0.12.14.min.js\", \"https://cdn.pydata.org/bokeh/release/bokeh-gl-0.12.14.min.js\"];\n",
       "\n",
       "  var inline_js = [\n",
       "    function(Bokeh) {\n",
       "      Bokeh.set_log_level(\"info\");\n",
       "    },\n",
       "    \n",
       "    function(Bokeh) {\n",
       "      \n",
       "    },\n",
       "    function(Bokeh) {\n",
       "      console.log(\"Bokeh: injecting CSS: https://cdn.pydata.org/bokeh/release/bokeh-0.12.14.min.css\");\n",
       "      Bokeh.embed.inject_css(\"https://cdn.pydata.org/bokeh/release/bokeh-0.12.14.min.css\");\n",
       "      console.log(\"Bokeh: injecting CSS: https://cdn.pydata.org/bokeh/release/bokeh-widgets-0.12.14.min.css\");\n",
       "      Bokeh.embed.inject_css(\"https://cdn.pydata.org/bokeh/release/bokeh-widgets-0.12.14.min.css\");\n",
       "      console.log(\"Bokeh: injecting CSS: https://cdn.pydata.org/bokeh/release/bokeh-tables-0.12.14.min.css\");\n",
       "      Bokeh.embed.inject_css(\"https://cdn.pydata.org/bokeh/release/bokeh-tables-0.12.14.min.css\");\n",
       "    }\n",
       "  ];\n",
       "\n",
       "  function run_inline_js() {\n",
       "    \n",
       "    if ((root.Bokeh !== undefined) || (force === true)) {\n",
       "      for (var i = 0; i < inline_js.length; i++) {\n",
       "        inline_js[i].call(root, root.Bokeh);\n",
       "      }if (force === true) {\n",
       "        display_loaded();\n",
       "      }} else if (Date.now() < root._bokeh_timeout) {\n",
       "      setTimeout(run_inline_js, 100);\n",
       "    } else if (!root._bokeh_failed_load) {\n",
       "      console.log(\"Bokeh: BokehJS failed to load within specified timeout.\");\n",
       "      root._bokeh_failed_load = true;\n",
       "    } else if (force !== true) {\n",
       "      var cell = $(document.getElementById(\"62c067af-109a-47f5-b5a6-9afab95fb7ac\")).parents('.cell').data().cell;\n",
       "      cell.output_area.append_execute_result(NB_LOAD_WARNING)\n",
       "    }\n",
       "\n",
       "  }\n",
       "\n",
       "  if (root._bokeh_is_loading === 0) {\n",
       "    console.log(\"Bokeh: BokehJS loaded, going straight to plotting\");\n",
       "    run_inline_js();\n",
       "  } else {\n",
       "    load_libs(js_urls, function() {\n",
       "      console.log(\"Bokeh: BokehJS plotting callback run at\", now());\n",
       "      run_inline_js();\n",
       "    });\n",
       "  }\n",
       "}(window));"
      ],
      "application/vnd.bokehjs_load.v0+json": "\n(function(root) {\n  function now() {\n    return new Date();\n  }\n\n  var force = true;\n\n  if (typeof (root._bokeh_onload_callbacks) === \"undefined\" || force === true) {\n    root._bokeh_onload_callbacks = [];\n    root._bokeh_is_loading = undefined;\n  }\n\n  \n\n  \n  if (typeof (root._bokeh_timeout) === \"undefined\" || force === true) {\n    root._bokeh_timeout = Date.now() + 5000;\n    root._bokeh_failed_load = false;\n  }\n\n  var NB_LOAD_WARNING = {'data': {'text/html':\n     \"<div style='background-color: #fdd'>\\n\"+\n     \"<p>\\n\"+\n     \"BokehJS does not appear to have successfully loaded. If loading BokehJS from CDN, this \\n\"+\n     \"may be due to a slow or bad network connection. Possible fixes:\\n\"+\n     \"</p>\\n\"+\n     \"<ul>\\n\"+\n     \"<li>re-rerun `output_notebook()` to attempt to load from CDN again, or</li>\\n\"+\n     \"<li>use INLINE resources instead, as so:</li>\\n\"+\n     \"</ul>\\n\"+\n     \"<code>\\n\"+\n     \"from bokeh.resources import INLINE\\n\"+\n     \"output_notebook(resources=INLINE)\\n\"+\n     \"</code>\\n\"+\n     \"</div>\"}};\n\n  function display_loaded() {\n    var el = document.getElementById(\"62c067af-109a-47f5-b5a6-9afab95fb7ac\");\n    if (el != null) {\n      el.textContent = \"BokehJS is loading...\";\n    }\n    if (root.Bokeh !== undefined) {\n      if (el != null) {\n        el.textContent = \"BokehJS \" + root.Bokeh.version + \" successfully loaded.\";\n      }\n    } else if (Date.now() < root._bokeh_timeout) {\n      setTimeout(display_loaded, 100)\n    }\n  }\n\n\n  function run_callbacks() {\n    try {\n      root._bokeh_onload_callbacks.forEach(function(callback) { callback() });\n    }\n    finally {\n      delete root._bokeh_onload_callbacks\n    }\n    console.info(\"Bokeh: all callbacks have finished\");\n  }\n\n  function load_libs(js_urls, callback) {\n    root._bokeh_onload_callbacks.push(callback);\n    if (root._bokeh_is_loading > 0) {\n      console.log(\"Bokeh: BokehJS is being loaded, scheduling callback at\", now());\n      return null;\n    }\n    if (js_urls == null || js_urls.length === 0) {\n      run_callbacks();\n      return null;\n    }\n    console.log(\"Bokeh: BokehJS not loaded, scheduling load and callback at\", now());\n    root._bokeh_is_loading = js_urls.length;\n    for (var i = 0; i < js_urls.length; i++) {\n      var url = js_urls[i];\n      var s = document.createElement('script');\n      s.src = url;\n      s.async = false;\n      s.onreadystatechange = s.onload = function() {\n        root._bokeh_is_loading--;\n        if (root._bokeh_is_loading === 0) {\n          console.log(\"Bokeh: all BokehJS libraries loaded\");\n          run_callbacks()\n        }\n      };\n      s.onerror = function() {\n        console.warn(\"failed to load library \" + url);\n      };\n      console.log(\"Bokeh: injecting script tag for BokehJS library: \", url);\n      document.getElementsByTagName(\"head\")[0].appendChild(s);\n    }\n  };var element = document.getElementById(\"62c067af-109a-47f5-b5a6-9afab95fb7ac\");\n  if (element == null) {\n    console.log(\"Bokeh: ERROR: autoload.js configured with elementid '62c067af-109a-47f5-b5a6-9afab95fb7ac' but no matching script tag was found. \")\n    return false;\n  }\n\n  var js_urls = [\"https://cdn.pydata.org/bokeh/release/bokeh-0.12.14.min.js\", \"https://cdn.pydata.org/bokeh/release/bokeh-widgets-0.12.14.min.js\", \"https://cdn.pydata.org/bokeh/release/bokeh-tables-0.12.14.min.js\", \"https://cdn.pydata.org/bokeh/release/bokeh-gl-0.12.14.min.js\"];\n\n  var inline_js = [\n    function(Bokeh) {\n      Bokeh.set_log_level(\"info\");\n    },\n    \n    function(Bokeh) {\n      \n    },\n    function(Bokeh) {\n      console.log(\"Bokeh: injecting CSS: https://cdn.pydata.org/bokeh/release/bokeh-0.12.14.min.css\");\n      Bokeh.embed.inject_css(\"https://cdn.pydata.org/bokeh/release/bokeh-0.12.14.min.css\");\n      console.log(\"Bokeh: injecting CSS: https://cdn.pydata.org/bokeh/release/bokeh-widgets-0.12.14.min.css\");\n      Bokeh.embed.inject_css(\"https://cdn.pydata.org/bokeh/release/bokeh-widgets-0.12.14.min.css\");\n      console.log(\"Bokeh: injecting CSS: https://cdn.pydata.org/bokeh/release/bokeh-tables-0.12.14.min.css\");\n      Bokeh.embed.inject_css(\"https://cdn.pydata.org/bokeh/release/bokeh-tables-0.12.14.min.css\");\n    }\n  ];\n\n  function run_inline_js() {\n    \n    if ((root.Bokeh !== undefined) || (force === true)) {\n      for (var i = 0; i < inline_js.length; i++) {\n        inline_js[i].call(root, root.Bokeh);\n      }if (force === true) {\n        display_loaded();\n      }} else if (Date.now() < root._bokeh_timeout) {\n      setTimeout(run_inline_js, 100);\n    } else if (!root._bokeh_failed_load) {\n      console.log(\"Bokeh: BokehJS failed to load within specified timeout.\");\n      root._bokeh_failed_load = true;\n    } else if (force !== true) {\n      var cell = $(document.getElementById(\"62c067af-109a-47f5-b5a6-9afab95fb7ac\")).parents('.cell').data().cell;\n      cell.output_area.append_execute_result(NB_LOAD_WARNING)\n    }\n\n  }\n\n  if (root._bokeh_is_loading === 0) {\n    console.log(\"Bokeh: BokehJS loaded, going straight to plotting\");\n    run_inline_js();\n  } else {\n    load_libs(js_urls, function() {\n      console.log(\"Bokeh: BokehJS plotting callback run at\", now());\n      run_inline_js();\n    });\n  }\n}(window));"
     },
     "metadata": {},
     "output_type": "display_data"
    }
   ],
   "source": [
    "import sys\n",
    "sys.path.insert(0, '..')\n",
    "\n",
    "import pandas as pd\n",
    "from api import API\n",
    "\n",
    "from marthas_dashboard.views import (tools)\n",
    "\n",
    "from bokeh.plotting import (figure, show)\n",
    "from bokeh.models import ColumnDataSource\n",
    "from bokeh.io import output_notebook\n",
    "output_notebook()"
   ]
  },
  {
   "cell_type": "code",
   "execution_count": 153,
   "metadata": {},
   "outputs": [],
   "source": [
    "from marthas_dashboard.views import create_selector_data_dict"
   ]
  },
  {
   "cell_type": "code",
   "execution_count": 154,
   "metadata": {},
   "outputs": [],
   "source": [
    "selector_data = create_selector_data_dict()"
   ]
  },
  {
   "cell_type": "code",
   "execution_count": 156,
   "metadata": {},
   "outputs": [],
   "source": [
    "from bokeh.models import HoverTool, ColumnDataSource, LabelSet"
   ]
  },
  {
   "cell_type": "code",
   "execution_count": 157,
   "metadata": {},
   "outputs": [],
   "source": [
    "api = API()\n",
    "search = {'point': '305','from': '2017-08-18', 'to': '2017-08-30'}\n",
    "data = api.point_values(search['point'], search['from'], search['to'])"
   ]
  },
  {
   "cell_type": "code",
   "execution_count": 158,
   "metadata": {},
   "outputs": [
    {
     "data": {
      "text/plain": [
       "148.44401149305557"
      ]
     },
     "execution_count": 158,
     "metadata": {},
     "output_type": "execute_result"
    }
   ],
   "source": [
    "data['pointvalue'].mean()"
   ]
  },
  {
   "cell_type": "code",
   "execution_count": 159,
   "metadata": {},
   "outputs": [],
   "source": [
    "average = data['pointvalue'].mean()\n",
    "std = data['pointvalue'].std()"
   ]
  },
  {
   "cell_type": "code",
   "execution_count": 163,
   "metadata": {},
   "outputs": [],
   "source": [
    "alerts_table = data.query(\n",
    "    '(pointvalue > {}) or (pointvalue < {})'.format(\n",
    "        average + std * 3,\n",
    "        average - std * 3))"
   ]
  },
  {
   "cell_type": "code",
   "execution_count": 165,
   "metadata": {},
   "outputs": [],
   "source": [
    "from flask import jsonify"
   ]
  },
  {
   "cell_type": "code",
   "execution_count": 171,
   "metadata": {},
   "outputs": [
    {
     "data": {
      "text/plain": [
       "array([[nan, 5, 59, 'Hulings Hall - Electricity', 305,\n",
       "        'Hulings Hall - Electricity', Timestamp('2017-08-29 15:00:00'),\n",
       "        84.625, 'float', 'kWh', '2017-08-29', '15:00'],\n",
       "       [nan, 5, 59, 'Hulings Hall - Electricity', 305,\n",
       "        'Hulings Hall - Electricity', Timestamp('2017-08-29 16:00:00'),\n",
       "        260.0, 'float', 'kWh', '2017-08-29', '16:00']], dtype=object)"
      ]
     },
     "execution_count": 171,
     "metadata": {},
     "output_type": "execute_result"
    }
   ],
   "source": [
    "alerts_table.as_matrix()"
   ]
  },
  {
   "cell_type": "code",
   "execution_count": null,
   "metadata": {},
   "outputs": [],
   "source": [
    "alerts_table.as_matrix(columns=[''])"
   ]
  },
  {
   "cell_type": "code",
   "execution_count": 179,
   "metadata": {},
   "outputs": [
    {
     "data": {
      "text/html": [
       "<div>\n",
       "<style scoped>\n",
       "    .dataframe tbody tr th:only-of-type {\n",
       "        vertical-align: middle;\n",
       "    }\n",
       "\n",
       "    .dataframe tbody tr th {\n",
       "        vertical-align: top;\n",
       "    }\n",
       "\n",
       "    .dataframe thead th {\n",
       "        text-align: right;\n",
       "    }\n",
       "</style>\n",
       "<table border=\"1\" class=\"dataframe\">\n",
       "  <thead>\n",
       "    <tr style=\"text-align: right;\">\n",
       "      <th></th>\n",
       "      <th>description</th>\n",
       "      <th>factor</th>\n",
       "      <th>id</th>\n",
       "      <th>name</th>\n",
       "      <th>pointid</th>\n",
       "      <th>pointname</th>\n",
       "      <th>pointtimestamp</th>\n",
       "      <th>pointvalue</th>\n",
       "      <th>returntype</th>\n",
       "      <th>units</th>\n",
       "      <th>date</th>\n",
       "      <th>time</th>\n",
       "    </tr>\n",
       "  </thead>\n",
       "  <tbody>\n",
       "    <tr>\n",
       "      <th>279</th>\n",
       "      <td>NaN</td>\n",
       "      <td>5</td>\n",
       "      <td>59</td>\n",
       "      <td>Hulings Hall - Electricity</td>\n",
       "      <td>305</td>\n",
       "      <td>Hulings Hall - Electricity</td>\n",
       "      <td>2017-08-29 15:00:00</td>\n",
       "      <td>84.625</td>\n",
       "      <td>float</td>\n",
       "      <td>kWh</td>\n",
       "      <td>2017-08-29</td>\n",
       "      <td>15:00</td>\n",
       "    </tr>\n",
       "    <tr>\n",
       "      <th>280</th>\n",
       "      <td>NaN</td>\n",
       "      <td>5</td>\n",
       "      <td>59</td>\n",
       "      <td>Hulings Hall - Electricity</td>\n",
       "      <td>305</td>\n",
       "      <td>Hulings Hall - Electricity</td>\n",
       "      <td>2017-08-29 16:00:00</td>\n",
       "      <td>260.000</td>\n",
       "      <td>float</td>\n",
       "      <td>kWh</td>\n",
       "      <td>2017-08-29</td>\n",
       "      <td>16:00</td>\n",
       "    </tr>\n",
       "  </tbody>\n",
       "</table>\n",
       "</div>"
      ],
      "text/plain": [
       "     description  factor  id                        name  pointid  \\\n",
       "279          NaN       5  59  Hulings Hall - Electricity      305   \n",
       "280          NaN       5  59  Hulings Hall - Electricity      305   \n",
       "\n",
       "                      pointname      pointtimestamp  pointvalue returntype  \\\n",
       "279  Hulings Hall - Electricity 2017-08-29 15:00:00      84.625      float   \n",
       "280  Hulings Hall - Electricity 2017-08-29 16:00:00     260.000      float   \n",
       "\n",
       "    units        date   time  \n",
       "279   kWh  2017-08-29  15:00  \n",
       "280   kWh  2017-08-29  16:00  "
      ]
     },
     "execution_count": 179,
     "metadata": {},
     "output_type": "execute_result"
    }
   ],
   "source": [
    "alerts_table"
   ]
  },
  {
   "cell_type": "code",
   "execution_count": 180,
   "metadata": {},
   "outputs": [],
   "source": [
    "cols = ['pointtimestamp', 'pointvalue']"
   ]
  },
  {
   "cell_type": "code",
   "execution_count": 192,
   "metadata": {},
   "outputs": [],
   "source": [
    "smaller_alerts = alerts_table[cols]"
   ]
  },
  {
   "cell_type": "code",
   "execution_count": 196,
   "metadata": {},
   "outputs": [
    {
     "data": {
      "text/plain": [
       "'{\"279\":{\"pointtimestamp\":1504018800000,\"pointvalue\":84.625},\"280\":{\"pointtimestamp\":1504022400000,\"pointvalue\":260.0}}'"
      ]
     },
     "execution_count": 196,
     "metadata": {},
     "output_type": "execute_result"
    }
   ],
   "source": [
    "smaller_alerts.to_json(orient='index')"
   ]
  },
  {
   "cell_type": "code",
   "execution_count": null,
   "metadata": {},
   "outputs": [],
   "source": []
  },
  {
   "cell_type": "code",
   "execution_count": null,
   "metadata": {},
   "outputs": [],
   "source": []
  },
  {
   "cell_type": "code",
   "execution_count": 173,
   "metadata": {},
   "outputs": [
    {
     "data": {
      "text/plain": [
       "279   2017-08-29 15:00:00\n",
       "280   2017-08-29 16:00:00\n",
       "Name: pointtimestamp, dtype: datetime64[ns]"
      ]
     },
     "execution_count": 173,
     "metadata": {},
     "output_type": "execute_result"
    }
   ],
   "source": [
    "alerts_table['pointtimestamp']"
   ]
  },
  {
   "cell_type": "code",
   "execution_count": null,
   "metadata": {},
   "outputs": [],
   "source": []
  },
  {
   "cell_type": "code",
   "execution_count": null,
   "metadata": {},
   "outputs": [],
   "source": []
  },
  {
   "cell_type": "code",
   "execution_count": null,
   "metadata": {},
   "outputs": [],
   "source": []
  },
  {
   "cell_type": "code",
   "execution_count": 113,
   "metadata": {},
   "outputs": [
    {
     "name": "stdout",
     "output_type": "stream",
     "text": [
      "[description                              NaN\n",
      "factor                                     5\n",
      "id                                        59\n",
      "name              Hulings Hall - Electricity\n",
      "pointid                                  305\n",
      "pointname         Hulings Hall - Electricity\n",
      "pointtimestamp           2017-08-29 15:00:00\n",
      "pointvalue                             84.62\n",
      "returntype                             float\n",
      "units                                    kWh\n",
      "date                              2017-08-29\n",
      "time                                   15:00\n",
      "avg                                   148.44\n",
      "std                                    14.46\n",
      "Name: 279, dtype: object, description                              NaN\n",
      "factor                                     5\n",
      "id                                        59\n",
      "name              Hulings Hall - Electricity\n",
      "pointid                                  305\n",
      "pointname         Hulings Hall - Electricity\n",
      "pointtimestamp           2017-08-29 16:00:00\n",
      "pointvalue                            260.00\n",
      "returntype                             float\n",
      "units                                    kWh\n",
      "date                              2017-08-29\n",
      "time                                   16:00\n",
      "avg                                   148.44\n",
      "std                                    14.46\n",
      "Name: 280, dtype: object]\n"
     ]
    }
   ],
   "source": [
    "average = data['pointvalue'].mean()\n",
    "std = data['pointvalue'].std()\n",
    "outliers = []\n",
    "for index, row in data.iterrows():\n",
    "    if row['pointvalue'] > average + std * 3 or row['pointvalue'] < average - std * 3:\n",
    "        roundpoints = 2\n",
    "        formatstring = \"{0:.{1}f}\"\n",
    "        # we were getting values like Average: -0.0 just because we were cutting off crucial info for low vals\n",
    "        # just keep increasing the precision until we display an actual non zero value\n",
    "        while float(formatstring.format(average, roundpoints)) == float(0):\n",
    "            roundpoints += 1\n",
    "        row['avg'] = formatstring.format(average, roundpoints)\n",
    "        row['std'] = formatstring.format(std, roundpoints)\n",
    "        row['pointvalue'] = formatstring.format(row['pointvalue'], roundpoints)\n",
    "        outliers.append(row)\n",
    "\n",
    "print(outliers)"
   ]
  },
  {
   "cell_type": "code",
   "execution_count": null,
   "metadata": {},
   "outputs": [],
   "source": []
  },
  {
   "cell_type": "code",
   "execution_count": null,
   "metadata": {},
   "outputs": [],
   "source": []
  },
  {
   "cell_type": "code",
   "execution_count": null,
   "metadata": {},
   "outputs": [],
   "source": []
  },
  {
   "cell_type": "code",
   "execution_count": null,
   "metadata": {},
   "outputs": [],
   "source": []
  },
  {
   "cell_type": "code",
   "execution_count": 87,
   "metadata": {},
   "outputs": [],
   "source": [
    "data['pointtimestamp'] = pd.to_datetime(data['pointtimestamp'])"
   ]
  },
  {
   "cell_type": "code",
   "execution_count": 88,
   "metadata": {},
   "outputs": [],
   "source": [
    "source = ColumnDataSource(data)"
   ]
  },
  {
   "cell_type": "code",
   "execution_count": 104,
   "metadata": {},
   "outputs": [],
   "source": [
    "hover = HoverTool(\n",
    "    tooltips=[('Date', '@pointtimestamp{%F %T}'), ('Value', '$y')],\n",
    "    formatters={'pointtimestamp': 'datetime'}, # use 'datetime' formatter for 'date' field\n",
    "    mode='vline')\n",
    "\n",
    "plot_tools = ['pan', 'box_zoom', 'wheel_zoom', 'save', 'reset', 'lasso_select', hover]"
   ]
  },
  {
   "cell_type": "code",
   "execution_count": 105,
   "metadata": {},
   "outputs": [
    {
     "data": {
      "text/html": [
       "<div style=\"display: table;\"><div style=\"display: table-row;\"><div style=\"display: table-cell;\"><b title=\"bokeh.models.renderers.GlyphRenderer\">GlyphRenderer</b>(</div><div style=\"display: table-cell;\">id&nbsp;=&nbsp;'d6f58626-c1fe-433b-bfc6-a4ab875cb069', <span id=\"5bca8933-1f72-4c4f-a2e1-4f9ffea52607\" style=\"cursor: pointer;\">&hellip;)</span></div></div><div class=\"6017a30d-5c10-48af-a61d-933e38ff1b0a\" style=\"display: none;\"><div style=\"display: table-cell;\"></div><div style=\"display: table-cell;\">data_source&nbsp;=&nbsp;ColumnDataSource(id='3a6e7c9a-fb3d-4533-9b73-fddb5591c5ec', ...),</div></div><div class=\"6017a30d-5c10-48af-a61d-933e38ff1b0a\" style=\"display: none;\"><div style=\"display: table-cell;\"></div><div style=\"display: table-cell;\">glyph&nbsp;=&nbsp;Line(id='43cd768c-7659-4f6f-ad1a-96e4439bfc68', ...),</div></div><div class=\"6017a30d-5c10-48af-a61d-933e38ff1b0a\" style=\"display: none;\"><div style=\"display: table-cell;\"></div><div style=\"display: table-cell;\">hover_glyph&nbsp;=&nbsp;None,</div></div><div class=\"6017a30d-5c10-48af-a61d-933e38ff1b0a\" style=\"display: none;\"><div style=\"display: table-cell;\"></div><div style=\"display: table-cell;\">js_event_callbacks&nbsp;=&nbsp;{},</div></div><div class=\"6017a30d-5c10-48af-a61d-933e38ff1b0a\" style=\"display: none;\"><div style=\"display: table-cell;\"></div><div style=\"display: table-cell;\">js_property_callbacks&nbsp;=&nbsp;{},</div></div><div class=\"6017a30d-5c10-48af-a61d-933e38ff1b0a\" style=\"display: none;\"><div style=\"display: table-cell;\"></div><div style=\"display: table-cell;\">level&nbsp;=&nbsp;'glyph',</div></div><div class=\"6017a30d-5c10-48af-a61d-933e38ff1b0a\" style=\"display: none;\"><div style=\"display: table-cell;\"></div><div style=\"display: table-cell;\">muted&nbsp;=&nbsp;False,</div></div><div class=\"6017a30d-5c10-48af-a61d-933e38ff1b0a\" style=\"display: none;\"><div style=\"display: table-cell;\"></div><div style=\"display: table-cell;\">muted_glyph&nbsp;=&nbsp;None,</div></div><div class=\"6017a30d-5c10-48af-a61d-933e38ff1b0a\" style=\"display: none;\"><div style=\"display: table-cell;\"></div><div style=\"display: table-cell;\">name&nbsp;=&nbsp;None,</div></div><div class=\"6017a30d-5c10-48af-a61d-933e38ff1b0a\" style=\"display: none;\"><div style=\"display: table-cell;\"></div><div style=\"display: table-cell;\">nonselection_glyph&nbsp;=&nbsp;Line(id='0de87622-8aef-425e-9f2d-b571e6ab2697', ...),</div></div><div class=\"6017a30d-5c10-48af-a61d-933e38ff1b0a\" style=\"display: none;\"><div style=\"display: table-cell;\"></div><div style=\"display: table-cell;\">selection_glyph&nbsp;=&nbsp;None,</div></div><div class=\"6017a30d-5c10-48af-a61d-933e38ff1b0a\" style=\"display: none;\"><div style=\"display: table-cell;\"></div><div style=\"display: table-cell;\">subscribed_events&nbsp;=&nbsp;[],</div></div><div class=\"6017a30d-5c10-48af-a61d-933e38ff1b0a\" style=\"display: none;\"><div style=\"display: table-cell;\"></div><div style=\"display: table-cell;\">tags&nbsp;=&nbsp;[],</div></div><div class=\"6017a30d-5c10-48af-a61d-933e38ff1b0a\" style=\"display: none;\"><div style=\"display: table-cell;\"></div><div style=\"display: table-cell;\">view&nbsp;=&nbsp;CDSView(id='0d2993f1-d276-4600-8ff0-5ac132b5d13e', ...),</div></div><div class=\"6017a30d-5c10-48af-a61d-933e38ff1b0a\" style=\"display: none;\"><div style=\"display: table-cell;\"></div><div style=\"display: table-cell;\">visible&nbsp;=&nbsp;True,</div></div><div class=\"6017a30d-5c10-48af-a61d-933e38ff1b0a\" style=\"display: none;\"><div style=\"display: table-cell;\"></div><div style=\"display: table-cell;\">x_range_name&nbsp;=&nbsp;'default',</div></div><div class=\"6017a30d-5c10-48af-a61d-933e38ff1b0a\" style=\"display: none;\"><div style=\"display: table-cell;\"></div><div style=\"display: table-cell;\">y_range_name&nbsp;=&nbsp;'default')</div></div></div>\n",
       "<script>\n",
       "(function() {\n",
       "  var expanded = false;\n",
       "  var ellipsis = document.getElementById(\"5bca8933-1f72-4c4f-a2e1-4f9ffea52607\");\n",
       "  ellipsis.addEventListener(\"click\", function() {\n",
       "    var rows = document.getElementsByClassName(\"6017a30d-5c10-48af-a61d-933e38ff1b0a\");\n",
       "    for (var i = 0; i < rows.length; i++) {\n",
       "      var el = rows[i];\n",
       "      el.style.display = expanded ? \"none\" : \"table-row\";\n",
       "    }\n",
       "    ellipsis.innerHTML = expanded ? \"&hellip;)\" : \"&lsaquo;&lsaquo;&lsaquo;\";\n",
       "    expanded = !expanded;\n",
       "  });\n",
       "})();\n",
       "</script>\n"
      ],
      "text/plain": [
       "GlyphRenderer(id='d6f58626-c1fe-433b-bfc6-a4ab875cb069', ...)"
      ]
     },
     "execution_count": 105,
     "metadata": {},
     "output_type": "execute_result"
    }
   ],
   "source": [
    "p = figure(\n",
    "    plot_width=400, plot_height=400,\n",
    "    x_axis_type=\"datetime\", tools=plot_tools)\n",
    "p.line(x='pointtimestamp', y='pointvalue', source=source)"
   ]
  },
  {
   "cell_type": "code",
   "execution_count": 10,
   "metadata": {},
   "outputs": [
    {
     "data": {
      "text/html": [
       "<div style=\"display: table;\"><div style=\"display: table-row;\"><div style=\"display: table-cell;\"><b title=\"bokeh.models.renderers.GlyphRenderer\">GlyphRenderer</b>(</div><div style=\"display: table-cell;\">id&nbsp;=&nbsp;'be98305e-9b29-411a-92cc-2b8b50b2358e', <span id=\"7de84ba8-5b45-4f6d-91ac-cd5a25262bc7\" style=\"cursor: pointer;\">&hellip;)</span></div></div><div class=\"da69666b-948c-4e99-b368-6583adba6a15\" style=\"display: none;\"><div style=\"display: table-cell;\"></div><div style=\"display: table-cell;\">data_source&nbsp;=&nbsp;ColumnDataSource(id='32704cf8-4ad0-4883-8577-dbfd9f8a4934', ...),</div></div><div class=\"da69666b-948c-4e99-b368-6583adba6a15\" style=\"display: none;\"><div style=\"display: table-cell;\"></div><div style=\"display: table-cell;\">glyph&nbsp;=&nbsp;Line(id='338c5964-9a5a-439c-b2b4-c7f8256855cc', ...),</div></div><div class=\"da69666b-948c-4e99-b368-6583adba6a15\" style=\"display: none;\"><div style=\"display: table-cell;\"></div><div style=\"display: table-cell;\">hover_glyph&nbsp;=&nbsp;None,</div></div><div class=\"da69666b-948c-4e99-b368-6583adba6a15\" style=\"display: none;\"><div style=\"display: table-cell;\"></div><div style=\"display: table-cell;\">js_event_callbacks&nbsp;=&nbsp;{},</div></div><div class=\"da69666b-948c-4e99-b368-6583adba6a15\" style=\"display: none;\"><div style=\"display: table-cell;\"></div><div style=\"display: table-cell;\">js_property_callbacks&nbsp;=&nbsp;{},</div></div><div class=\"da69666b-948c-4e99-b368-6583adba6a15\" style=\"display: none;\"><div style=\"display: table-cell;\"></div><div style=\"display: table-cell;\">level&nbsp;=&nbsp;'glyph',</div></div><div class=\"da69666b-948c-4e99-b368-6583adba6a15\" style=\"display: none;\"><div style=\"display: table-cell;\"></div><div style=\"display: table-cell;\">muted&nbsp;=&nbsp;False,</div></div><div class=\"da69666b-948c-4e99-b368-6583adba6a15\" style=\"display: none;\"><div style=\"display: table-cell;\"></div><div style=\"display: table-cell;\">muted_glyph&nbsp;=&nbsp;None,</div></div><div class=\"da69666b-948c-4e99-b368-6583adba6a15\" style=\"display: none;\"><div style=\"display: table-cell;\"></div><div style=\"display: table-cell;\">name&nbsp;=&nbsp;None,</div></div><div class=\"da69666b-948c-4e99-b368-6583adba6a15\" style=\"display: none;\"><div style=\"display: table-cell;\"></div><div style=\"display: table-cell;\">nonselection_glyph&nbsp;=&nbsp;Line(id='eccad984-847b-4b61-bc07-3612ce2667ba', ...),</div></div><div class=\"da69666b-948c-4e99-b368-6583adba6a15\" style=\"display: none;\"><div style=\"display: table-cell;\"></div><div style=\"display: table-cell;\">selection_glyph&nbsp;=&nbsp;None,</div></div><div class=\"da69666b-948c-4e99-b368-6583adba6a15\" style=\"display: none;\"><div style=\"display: table-cell;\"></div><div style=\"display: table-cell;\">subscribed_events&nbsp;=&nbsp;[],</div></div><div class=\"da69666b-948c-4e99-b368-6583adba6a15\" style=\"display: none;\"><div style=\"display: table-cell;\"></div><div style=\"display: table-cell;\">tags&nbsp;=&nbsp;[],</div></div><div class=\"da69666b-948c-4e99-b368-6583adba6a15\" style=\"display: none;\"><div style=\"display: table-cell;\"></div><div style=\"display: table-cell;\">view&nbsp;=&nbsp;CDSView(id='fce16c23-a7f9-42dd-9b27-dce6e32c34ec', ...),</div></div><div class=\"da69666b-948c-4e99-b368-6583adba6a15\" style=\"display: none;\"><div style=\"display: table-cell;\"></div><div style=\"display: table-cell;\">visible&nbsp;=&nbsp;True,</div></div><div class=\"da69666b-948c-4e99-b368-6583adba6a15\" style=\"display: none;\"><div style=\"display: table-cell;\"></div><div style=\"display: table-cell;\">x_range_name&nbsp;=&nbsp;'default',</div></div><div class=\"da69666b-948c-4e99-b368-6583adba6a15\" style=\"display: none;\"><div style=\"display: table-cell;\"></div><div style=\"display: table-cell;\">y_range_name&nbsp;=&nbsp;'default')</div></div></div>\n",
       "<script>\n",
       "(function() {\n",
       "  var expanded = false;\n",
       "  var ellipsis = document.getElementById(\"7de84ba8-5b45-4f6d-91ac-cd5a25262bc7\");\n",
       "  ellipsis.addEventListener(\"click\", function() {\n",
       "    var rows = document.getElementsByClassName(\"da69666b-948c-4e99-b368-6583adba6a15\");\n",
       "    for (var i = 0; i < rows.length; i++) {\n",
       "      var el = rows[i];\n",
       "      el.style.display = expanded ? \"none\" : \"table-row\";\n",
       "    }\n",
       "    ellipsis.innerHTML = expanded ? \"&hellip;)\" : \"&lsaquo;&lsaquo;&lsaquo;\";\n",
       "    expanded = !expanded;\n",
       "  });\n",
       "})();\n",
       "</script>\n"
      ],
      "text/plain": [
       "GlyphRenderer(id='be98305e-9b29-411a-92cc-2b8b50b2358e', ...)"
      ]
     },
     "execution_count": 10,
     "metadata": {},
     "output_type": "execute_result"
    }
   ],
   "source": [
    "p = figure(plot_width=400, plot_height=400)\n",
    "p.line([1, 2, 3, 4, 5], [6, 7, 2, 4, 5], line_width=2)"
   ]
  },
  {
   "cell_type": "code",
   "execution_count": 7,
   "metadata": {},
   "outputs": [
    {
     "data": {
      "text/html": [
       "\n",
       "<div class=\"bk-root\">\n",
       "    <div class=\"bk-plotdiv\" id=\"5bddd815-67af-4e79-b88f-e7d490a4406d\"></div>\n",
       "</div>"
      ]
     },
     "metadata": {},
     "output_type": "display_data"
    },
    {
     "data": {
      "application/javascript": [
       "(function(root) {\n",
       "  function embed_document(root) {\n",
       "    \n",
       "  var docs_json = {\"e3674453-e341-43c1-aa09-aec212776351\":{\"roots\":{\"references\":[{\"attributes\":{\"callback\":null},\"id\":\"aed52de0-11bf-429d-921b-20fa2082f022\",\"type\":\"DataRange1d\"},{\"attributes\":{},\"id\":\"a954bf6f-96a4-4dbd-bae7-15a344e52acb\",\"type\":\"SaveTool\"},{\"attributes\":{},\"id\":\"5b1f3944-e74c-4803-9908-99570ca77812\",\"type\":\"LinearScale\"},{\"attributes\":{\"bottom_units\":\"screen\",\"fill_alpha\":{\"value\":0.5},\"fill_color\":{\"value\":\"lightgrey\"},\"left_units\":\"screen\",\"level\":\"overlay\",\"line_alpha\":{\"value\":1.0},\"line_color\":{\"value\":\"black\"},\"line_dash\":[4,4],\"line_width\":{\"value\":2},\"plot\":null,\"render_mode\":\"css\",\"right_units\":\"screen\",\"top_units\":\"screen\"},\"id\":\"cd48cd01-14af-4396-abf2-810185442a32\",\"type\":\"BoxAnnotation\"},{\"attributes\":{},\"id\":\"b71a061b-f67b-4f9c-9770-eb98316b03ef\",\"type\":\"BasicTickFormatter\"},{\"attributes\":{},\"id\":\"ff8d0d40-6971-4274-9428-540cb945ae6b\",\"type\":\"ResetTool\"},{\"attributes\":{\"source\":{\"id\":\"40e685ce-1096-4263-b4dc-5cc882f1ac22\",\"type\":\"ColumnDataSource\"}},\"id\":\"7a0571a3-d993-4ac1-92c2-a688eb864aa2\",\"type\":\"CDSView\"},{\"attributes\":{\"plot\":null,\"text\":\"\"},\"id\":\"bcb7b7e6-f3f8-40ae-a5ae-af9d00352735\",\"type\":\"Title\"},{\"attributes\":{},\"id\":\"86fb9915-66cf-4c35-a059-36944ef8ae9b\",\"type\":\"HelpTool\"},{\"attributes\":{},\"id\":\"2efda83d-b125-443b-a591-b1a84c05d091\",\"type\":\"LinearScale\"},{\"attributes\":{\"plot\":{\"id\":\"074e24a9-cc02-452f-963b-ac9106fca797\",\"subtype\":\"Figure\",\"type\":\"Plot\"},\"ticker\":{\"id\":\"eda61521-3d57-49c3-9d8e-b67f077b56ef\",\"type\":\"BasicTicker\"}},\"id\":\"2e64a1aa-2b6e-4d3a-ad9b-a1157fc5e462\",\"type\":\"Grid\"},{\"attributes\":{\"formatter\":{\"id\":\"b71a061b-f67b-4f9c-9770-eb98316b03ef\",\"type\":\"BasicTickFormatter\"},\"plot\":{\"id\":\"074e24a9-cc02-452f-963b-ac9106fca797\",\"subtype\":\"Figure\",\"type\":\"Plot\"},\"ticker\":{\"id\":\"eda61521-3d57-49c3-9d8e-b67f077b56ef\",\"type\":\"BasicTicker\"}},\"id\":\"8b2d5b40-401e-4373-937f-3c8074551b11\",\"type\":\"LinearAxis\"},{\"attributes\":{},\"id\":\"eda61521-3d57-49c3-9d8e-b67f077b56ef\",\"type\":\"BasicTicker\"},{\"attributes\":{\"formatter\":{\"id\":\"21cee91c-51f4-4da6-9c2d-b29974497141\",\"type\":\"BasicTickFormatter\"},\"plot\":{\"id\":\"074e24a9-cc02-452f-963b-ac9106fca797\",\"subtype\":\"Figure\",\"type\":\"Plot\"},\"ticker\":{\"id\":\"3a4bda64-9770-4827-aa02-7d0685bad9f9\",\"type\":\"BasicTicker\"}},\"id\":\"ed842004-0210-452b-bc77-8cceee8831ba\",\"type\":\"LinearAxis\"},{\"attributes\":{},\"id\":\"3a4bda64-9770-4827-aa02-7d0685bad9f9\",\"type\":\"BasicTicker\"},{\"attributes\":{\"dimension\":1,\"plot\":{\"id\":\"074e24a9-cc02-452f-963b-ac9106fca797\",\"subtype\":\"Figure\",\"type\":\"Plot\"},\"ticker\":{\"id\":\"3a4bda64-9770-4827-aa02-7d0685bad9f9\",\"type\":\"BasicTicker\"}},\"id\":\"af896bc4-9aed-4dc7-bb82-be31421ef733\",\"type\":\"Grid\"},{\"attributes\":{},\"id\":\"21cee91c-51f4-4da6-9c2d-b29974497141\",\"type\":\"BasicTickFormatter\"},{\"attributes\":{\"line_color\":\"#1f77b4\",\"line_width\":2,\"x\":{\"field\":\"x\"},\"y\":{\"field\":\"y\"}},\"id\":\"8cd8fba9-6c63-4543-b8e9-aedea1f2b2a8\",\"type\":\"Line\"},{\"attributes\":{\"below\":[{\"id\":\"8b2d5b40-401e-4373-937f-3c8074551b11\",\"type\":\"LinearAxis\"}],\"left\":[{\"id\":\"ed842004-0210-452b-bc77-8cceee8831ba\",\"type\":\"LinearAxis\"}],\"plot_height\":400,\"plot_width\":400,\"renderers\":[{\"id\":\"8b2d5b40-401e-4373-937f-3c8074551b11\",\"type\":\"LinearAxis\"},{\"id\":\"2e64a1aa-2b6e-4d3a-ad9b-a1157fc5e462\",\"type\":\"Grid\"},{\"id\":\"ed842004-0210-452b-bc77-8cceee8831ba\",\"type\":\"LinearAxis\"},{\"id\":\"af896bc4-9aed-4dc7-bb82-be31421ef733\",\"type\":\"Grid\"},{\"id\":\"cd48cd01-14af-4396-abf2-810185442a32\",\"type\":\"BoxAnnotation\"},{\"id\":\"91355008-ddd2-48ee-af39-aa401d054f33\",\"type\":\"GlyphRenderer\"}],\"title\":{\"id\":\"bcb7b7e6-f3f8-40ae-a5ae-af9d00352735\",\"type\":\"Title\"},\"toolbar\":{\"id\":\"1b41b76d-90c7-4494-bd8d-d1e33211a1c1\",\"type\":\"Toolbar\"},\"x_range\":{\"id\":\"8d613b07-693a-4786-81e7-4c8b7c0838a8\",\"type\":\"DataRange1d\"},\"x_scale\":{\"id\":\"5b1f3944-e74c-4803-9908-99570ca77812\",\"type\":\"LinearScale\"},\"y_range\":{\"id\":\"aed52de0-11bf-429d-921b-20fa2082f022\",\"type\":\"DataRange1d\"},\"y_scale\":{\"id\":\"2efda83d-b125-443b-a591-b1a84c05d091\",\"type\":\"LinearScale\"}},\"id\":\"074e24a9-cc02-452f-963b-ac9106fca797\",\"subtype\":\"Figure\",\"type\":\"Plot\"},{\"attributes\":{\"data_source\":{\"id\":\"40e685ce-1096-4263-b4dc-5cc882f1ac22\",\"type\":\"ColumnDataSource\"},\"glyph\":{\"id\":\"8cd8fba9-6c63-4543-b8e9-aedea1f2b2a8\",\"type\":\"Line\"},\"hover_glyph\":null,\"muted_glyph\":null,\"nonselection_glyph\":{\"id\":\"67d73767-16ec-4113-b070-dcf0b717a558\",\"type\":\"Line\"},\"selection_glyph\":null,\"view\":{\"id\":\"7a0571a3-d993-4ac1-92c2-a688eb864aa2\",\"type\":\"CDSView\"}},\"id\":\"91355008-ddd2-48ee-af39-aa401d054f33\",\"type\":\"GlyphRenderer\"},{\"attributes\":{\"line_alpha\":0.1,\"line_color\":\"#1f77b4\",\"line_width\":2,\"x\":{\"field\":\"x\"},\"y\":{\"field\":\"y\"}},\"id\":\"67d73767-16ec-4113-b070-dcf0b717a558\",\"type\":\"Line\"},{\"attributes\":{\"callback\":null,\"column_names\":[\"x\",\"y\"],\"data\":{\"x\":[1,2,3,4,5],\"y\":[6,7,2,4,5]}},\"id\":\"40e685ce-1096-4263-b4dc-5cc882f1ac22\",\"type\":\"ColumnDataSource\"},{\"attributes\":{},\"id\":\"4cee8c38-7bcf-460d-8a96-cbe860dfa26d\",\"type\":\"PanTool\"},{\"attributes\":{\"active_drag\":\"auto\",\"active_inspect\":\"auto\",\"active_scroll\":\"auto\",\"active_tap\":\"auto\",\"tools\":[{\"id\":\"4cee8c38-7bcf-460d-8a96-cbe860dfa26d\",\"type\":\"PanTool\"},{\"id\":\"115b142d-11a8-49f2-b904-afa696deb3ee\",\"type\":\"WheelZoomTool\"},{\"id\":\"8ad3f8c3-d667-4617-b845-645a4bd1e19c\",\"type\":\"BoxZoomTool\"},{\"id\":\"a954bf6f-96a4-4dbd-bae7-15a344e52acb\",\"type\":\"SaveTool\"},{\"id\":\"ff8d0d40-6971-4274-9428-540cb945ae6b\",\"type\":\"ResetTool\"},{\"id\":\"86fb9915-66cf-4c35-a059-36944ef8ae9b\",\"type\":\"HelpTool\"}]},\"id\":\"1b41b76d-90c7-4494-bd8d-d1e33211a1c1\",\"type\":\"Toolbar\"},{\"attributes\":{\"overlay\":{\"id\":\"cd48cd01-14af-4396-abf2-810185442a32\",\"type\":\"BoxAnnotation\"}},\"id\":\"8ad3f8c3-d667-4617-b845-645a4bd1e19c\",\"type\":\"BoxZoomTool\"},{\"attributes\":{\"callback\":null},\"id\":\"8d613b07-693a-4786-81e7-4c8b7c0838a8\",\"type\":\"DataRange1d\"},{\"attributes\":{},\"id\":\"115b142d-11a8-49f2-b904-afa696deb3ee\",\"type\":\"WheelZoomTool\"}],\"root_ids\":[\"074e24a9-cc02-452f-963b-ac9106fca797\"]},\"title\":\"Bokeh Application\",\"version\":\"0.12.14\"}};\n",
       "  var render_items = [{\"docid\":\"e3674453-e341-43c1-aa09-aec212776351\",\"elementid\":\"5bddd815-67af-4e79-b88f-e7d490a4406d\",\"modelid\":\"074e24a9-cc02-452f-963b-ac9106fca797\"}];\n",
       "  root.Bokeh.embed.embed_items_notebook(docs_json, render_items);\n",
       "\n",
       "  }\n",
       "  if (root.Bokeh !== undefined) {\n",
       "    embed_document(root);\n",
       "  } else {\n",
       "    var attempts = 0;\n",
       "    var timer = setInterval(function(root) {\n",
       "      if (root.Bokeh !== undefined) {\n",
       "        embed_document(root);\n",
       "        clearInterval(timer);\n",
       "      }\n",
       "      attempts++;\n",
       "      if (attempts > 100) {\n",
       "        console.log(\"Bokeh: ERROR: Unable to run BokehJS code because BokehJS library is missing\")\n",
       "        clearInterval(timer);\n",
       "      }\n",
       "    }, 10, root)\n",
       "  }\n",
       "})(window);"
      ],
      "application/vnd.bokehjs_exec.v0+json": ""
     },
     "metadata": {
      "application/vnd.bokehjs_exec.v0+json": {
       "id": "074e24a9-cc02-452f-963b-ac9106fca797"
      }
     },
     "output_type": "display_data"
    }
   ],
   "source": [
    "show(p)"
   ]
  },
  {
   "cell_type": "code",
   "execution_count": 106,
   "metadata": {},
   "outputs": [
    {
     "data": {
      "text/html": [
       "\n",
       "<div class=\"bk-root\">\n",
       "    <div class=\"bk-plotdiv\" id=\"3c1d0cdd-f1a0-4e14-8481-0ff99165d280\"></div>\n",
       "</div>"
      ]
     },
     "metadata": {},
     "output_type": "display_data"
    },
    {
     "data": {
      "application/javascript": [
       "(function(root) {\n",
       "  function embed_document(root) {\n",
       "    \n",
       "  var docs_json = {\"51dc97cd-80e1-47ad-baa5-469a55f9de2a\":{\"roots\":{\"references\":[{\"attributes\":{\"days\":[1,2,3,4,5,6,7,8,9,10,11,12,13,14,15,16,17,18,19,20,21,22,23,24,25,26,27,28,29,30,31]},\"id\":\"a01412ca-6d07-4707-b7b0-1b59ab9e44fa\",\"type\":\"DaysTicker\"},{\"attributes\":{},\"id\":\"c23478b6-d2bf-44a8-80ab-bf6dfc096d35\",\"type\":\"DatetimeTickFormatter\"},{\"attributes\":{},\"id\":\"3b0af8af-4a04-4170-a521-abaa960064cf\",\"type\":\"BasicTickFormatter\"},{\"attributes\":{\"formatter\":{\"id\":\"c23478b6-d2bf-44a8-80ab-bf6dfc096d35\",\"type\":\"DatetimeTickFormatter\"},\"plot\":{\"id\":\"96f5953f-2d4e-4a84-9b09-60f83123e31b\",\"subtype\":\"Figure\",\"type\":\"Plot\"},\"ticker\":{\"id\":\"9270a855-5922-454f-aea8-ab5f3ecc85e2\",\"type\":\"DatetimeTicker\"}},\"id\":\"efd569d0-fdcc-4c60-90b1-3aff82d12185\",\"type\":\"DatetimeAxis\"},{\"attributes\":{},\"id\":\"baaac9a8-5b67-4035-a085-cba893962031\",\"type\":\"PanTool\"},{\"attributes\":{\"formatter\":{\"id\":\"3b0af8af-4a04-4170-a521-abaa960064cf\",\"type\":\"BasicTickFormatter\"},\"plot\":{\"id\":\"96f5953f-2d4e-4a84-9b09-60f83123e31b\",\"subtype\":\"Figure\",\"type\":\"Plot\"},\"ticker\":{\"id\":\"ef4fe945-4a8c-4208-a8f1-914acf962a36\",\"type\":\"BasicTicker\"}},\"id\":\"8301d054-bce1-4a6e-986f-bddb8fef304e\",\"type\":\"LinearAxis\"},{\"attributes\":{\"days\":[1,4,7,10,13,16,19,22,25,28]},\"id\":\"f4b3f0a9-65a1-4822-ad43-6e5d69f11c04\",\"type\":\"DaysTicker\"},{\"attributes\":{\"months\":[0,2,4,6,8,10]},\"id\":\"435e00e7-d17a-4039-9084-e9c46f83ef97\",\"type\":\"MonthsTicker\"},{\"attributes\":{\"active_drag\":\"auto\",\"active_inspect\":\"auto\",\"active_scroll\":\"auto\",\"active_tap\":\"auto\",\"tools\":[{\"id\":\"a01638f7-ed5b-497a-a996-5c931b08d283\",\"type\":\"HoverTool\"},{\"id\":\"baaac9a8-5b67-4035-a085-cba893962031\",\"type\":\"PanTool\"},{\"id\":\"2d118053-99c7-4d0a-ae0a-94d7f371c15a\",\"type\":\"BoxZoomTool\"},{\"id\":\"93fa4ef1-b911-4c2a-95f3-a82e548be996\",\"type\":\"WheelZoomTool\"},{\"id\":\"abe63b81-2940-4f22-a5ee-de2724f6ef05\",\"type\":\"SaveTool\"},{\"id\":\"ed7413c6-d774-45cf-a7d1-de9eb183ce53\",\"type\":\"ResetTool\"},{\"id\":\"f11682f8-693e-4560-8887-01337267ef7e\",\"type\":\"LassoSelectTool\"}]},\"id\":\"78606511-5657-4ac5-bdb9-4bdc711d1cf0\",\"type\":\"Toolbar\"},{\"attributes\":{\"bottom_units\":\"screen\",\"fill_alpha\":{\"value\":0.5},\"fill_color\":{\"value\":\"lightgrey\"},\"left_units\":\"screen\",\"level\":\"overlay\",\"line_alpha\":{\"value\":1.0},\"line_color\":{\"value\":\"black\"},\"line_dash\":[4,4],\"line_width\":{\"value\":2},\"plot\":null,\"render_mode\":\"css\",\"right_units\":\"screen\",\"top_units\":\"screen\"},\"id\":\"67ae30f4-99a2-4da9-9408-50373f80db3e\",\"type\":\"BoxAnnotation\"},{\"attributes\":{\"data_source\":{\"id\":\"3a6e7c9a-fb3d-4533-9b73-fddb5591c5ec\",\"type\":\"ColumnDataSource\"},\"glyph\":{\"id\":\"43cd768c-7659-4f6f-ad1a-96e4439bfc68\",\"type\":\"Line\"},\"hover_glyph\":null,\"muted_glyph\":null,\"nonselection_glyph\":{\"id\":\"0de87622-8aef-425e-9f2d-b571e6ab2697\",\"type\":\"Line\"},\"selection_glyph\":null,\"view\":{\"id\":\"0d2993f1-d276-4600-8ff0-5ac132b5d13e\",\"type\":\"CDSView\"}},\"id\":\"d6f58626-c1fe-433b-bfc6-a4ab875cb069\",\"type\":\"GlyphRenderer\"},{\"attributes\":{\"dimension\":1,\"plot\":{\"id\":\"96f5953f-2d4e-4a84-9b09-60f83123e31b\",\"subtype\":\"Figure\",\"type\":\"Plot\"},\"ticker\":{\"id\":\"ef4fe945-4a8c-4208-a8f1-914acf962a36\",\"type\":\"BasicTicker\"}},\"id\":\"b8c2ac7f-b1a2-40e3-8f30-2c73ccf8efe9\",\"type\":\"Grid\"},{\"attributes\":{\"days\":[1,8,15,22]},\"id\":\"0cd72dfa-e22e-4c21-aa0e-7ebbc07ddbbd\",\"type\":\"DaysTicker\"},{\"attributes\":{\"source\":{\"id\":\"3a6e7c9a-fb3d-4533-9b73-fddb5591c5ec\",\"type\":\"ColumnDataSource\"}},\"id\":\"0d2993f1-d276-4600-8ff0-5ac132b5d13e\",\"type\":\"CDSView\"},{\"attributes\":{\"days\":[1,15]},\"id\":\"c42d866b-e8fe-40c6-8716-85aa0f5234b8\",\"type\":\"DaysTicker\"},{\"attributes\":{\"num_minor_ticks\":5,\"tickers\":[{\"id\":\"d66e6378-b85b-4db2-ad73-7eb229001334\",\"type\":\"AdaptiveTicker\"},{\"id\":\"0b523ea9-795d-4993-add9-968083378fa0\",\"type\":\"AdaptiveTicker\"},{\"id\":\"f1289bce-345d-4640-911f-1212bd8d2876\",\"type\":\"AdaptiveTicker\"},{\"id\":\"a01412ca-6d07-4707-b7b0-1b59ab9e44fa\",\"type\":\"DaysTicker\"},{\"id\":\"f4b3f0a9-65a1-4822-ad43-6e5d69f11c04\",\"type\":\"DaysTicker\"},{\"id\":\"0cd72dfa-e22e-4c21-aa0e-7ebbc07ddbbd\",\"type\":\"DaysTicker\"},{\"id\":\"c42d866b-e8fe-40c6-8716-85aa0f5234b8\",\"type\":\"DaysTicker\"},{\"id\":\"7b9e2c46-a924-48f0-b5f1-066b413c828d\",\"type\":\"MonthsTicker\"},{\"id\":\"435e00e7-d17a-4039-9084-e9c46f83ef97\",\"type\":\"MonthsTicker\"},{\"id\":\"36485b28-e690-4c1c-96f7-0a835d6e04d8\",\"type\":\"MonthsTicker\"},{\"id\":\"1c54fae4-1f72-42f1-9f56-1cecfdbd0eb4\",\"type\":\"MonthsTicker\"},{\"id\":\"e5c09bb8-5794-4037-823a-a5023685b62a\",\"type\":\"YearsTicker\"}]},\"id\":\"9270a855-5922-454f-aea8-ab5f3ecc85e2\",\"type\":\"DatetimeTicker\"},{\"attributes\":{\"overlay\":{\"id\":\"67ae30f4-99a2-4da9-9408-50373f80db3e\",\"type\":\"BoxAnnotation\"}},\"id\":\"2d118053-99c7-4d0a-ae0a-94d7f371c15a\",\"type\":\"BoxZoomTool\"},{\"attributes\":{},\"id\":\"e53f28c0-6c54-4849-b3d0-91f8ac4b4f35\",\"type\":\"LinearScale\"},{\"attributes\":{\"months\":[0,1,2,3,4,5,6,7,8,9,10,11]},\"id\":\"7b9e2c46-a924-48f0-b5f1-066b413c828d\",\"type\":\"MonthsTicker\"},{\"attributes\":{},\"id\":\"93fa4ef1-b911-4c2a-95f3-a82e548be996\",\"type\":\"WheelZoomTool\"},{\"attributes\":{},\"id\":\"ed7413c6-d774-45cf-a7d1-de9eb183ce53\",\"type\":\"ResetTool\"},{\"attributes\":{\"line_alpha\":0.1,\"line_color\":\"#1f77b4\",\"x\":{\"field\":\"pointtimestamp\"},\"y\":{\"field\":\"pointvalue\"}},\"id\":\"0de87622-8aef-425e-9f2d-b571e6ab2697\",\"type\":\"Line\"},{\"attributes\":{},\"id\":\"abe63b81-2940-4f22-a5ee-de2724f6ef05\",\"type\":\"SaveTool\"},{\"attributes\":{\"months\":[0,6]},\"id\":\"1c54fae4-1f72-42f1-9f56-1cecfdbd0eb4\",\"type\":\"MonthsTicker\"},{\"attributes\":{\"months\":[0,4,8]},\"id\":\"36485b28-e690-4c1c-96f7-0a835d6e04d8\",\"type\":\"MonthsTicker\"},{\"attributes\":{},\"id\":\"e5c09bb8-5794-4037-823a-a5023685b62a\",\"type\":\"YearsTicker\"},{\"attributes\":{\"callback\":null,\"overlay\":{\"id\":\"56443d68-3ddf-4667-97f6-c706059bf8fa\",\"type\":\"PolyAnnotation\"}},\"id\":\"f11682f8-693e-4560-8887-01337267ef7e\",\"type\":\"LassoSelectTool\"},{\"attributes\":{\"fill_alpha\":{\"value\":0.5},\"fill_color\":{\"value\":\"lightgrey\"},\"level\":\"overlay\",\"line_alpha\":{\"value\":1.0},\"line_color\":{\"value\":\"black\"},\"line_dash\":[4,4],\"line_width\":{\"value\":2},\"plot\":null,\"xs_units\":\"screen\",\"ys_units\":\"screen\"},\"id\":\"56443d68-3ddf-4667-97f6-c706059bf8fa\",\"type\":\"PolyAnnotation\"},{\"attributes\":{\"plot\":null,\"text\":\"\"},\"id\":\"cedd3209-7407-4a3e-98de-6a4df46e3028\",\"type\":\"Title\"},{\"attributes\":{},\"id\":\"23135fac-18ea-481e-95cd-e896d115357c\",\"type\":\"LinearScale\"},{\"attributes\":{\"base\":60,\"mantissas\":[1,2,5,10,15,20,30],\"max_interval\":1800000.0,\"min_interval\":1000.0,\"num_minor_ticks\":0},\"id\":\"0b523ea9-795d-4993-add9-968083378fa0\",\"type\":\"AdaptiveTicker\"},{\"attributes\":{\"plot\":{\"id\":\"96f5953f-2d4e-4a84-9b09-60f83123e31b\",\"subtype\":\"Figure\",\"type\":\"Plot\"},\"ticker\":{\"id\":\"9270a855-5922-454f-aea8-ab5f3ecc85e2\",\"type\":\"DatetimeTicker\"}},\"id\":\"19daf08d-be92-4e60-a660-f0f610f5f6b8\",\"type\":\"Grid\"},{\"attributes\":{\"base\":24,\"mantissas\":[1,2,4,6,8,12],\"max_interval\":43200000.0,\"min_interval\":3600000.0,\"num_minor_ticks\":0},\"id\":\"f1289bce-345d-4640-911f-1212bd8d2876\",\"type\":\"AdaptiveTicker\"},{\"attributes\":{\"callback\":null,\"column_names\":[\"description\",\"factor\",\"id\",\"name\",\"pointid\",\"pointname\",\"pointtimestamp\",\"pointvalue\",\"returntype\",\"units\",\"date\",\"time\",\"index\"],\"data\":{\"date\":[\"2017-08-18\",\"2017-08-18\",\"2017-08-18\",\"2017-08-18\",\"2017-08-18\",\"2017-08-18\",\"2017-08-18\",\"2017-08-18\",\"2017-08-18\",\"2017-08-18\",\"2017-08-18\",\"2017-08-18\",\"2017-08-18\",\"2017-08-18\",\"2017-08-18\",\"2017-08-18\",\"2017-08-18\",\"2017-08-18\",\"2017-08-18\",\"2017-08-18\",\"2017-08-18\",\"2017-08-18\",\"2017-08-18\",\"2017-08-18\",\"2017-08-19\",\"2017-08-19\",\"2017-08-19\",\"2017-08-19\",\"2017-08-19\",\"2017-08-19\",\"2017-08-19\",\"2017-08-19\",\"2017-08-19\",\"2017-08-19\",\"2017-08-19\",\"2017-08-19\",\"2017-08-19\",\"2017-08-19\",\"2017-08-19\",\"2017-08-19\",\"2017-08-19\",\"2017-08-19\",\"2017-08-19\",\"2017-08-19\",\"2017-08-19\",\"2017-08-19\",\"2017-08-19\",\"2017-08-19\",\"2017-08-20\",\"2017-08-20\",\"2017-08-20\",\"2017-08-20\",\"2017-08-20\",\"2017-08-20\",\"2017-08-20\",\"2017-08-20\",\"2017-08-20\",\"2017-08-20\",\"2017-08-20\",\"2017-08-20\",\"2017-08-20\",\"2017-08-20\",\"2017-08-20\",\"2017-08-20\",\"2017-08-20\",\"2017-08-20\",\"2017-08-20\",\"2017-08-20\",\"2017-08-20\",\"2017-08-20\",\"2017-08-20\",\"2017-08-20\",\"2017-08-21\",\"2017-08-21\",\"2017-08-21\",\"2017-08-21\",\"2017-08-21\",\"2017-08-21\",\"2017-08-21\",\"2017-08-21\",\"2017-08-21\",\"2017-08-21\",\"2017-08-21\",\"2017-08-21\",\"2017-08-21\",\"2017-08-21\",\"2017-08-21\",\"2017-08-21\",\"2017-08-21\",\"2017-08-21\",\"2017-08-21\",\"2017-08-21\",\"2017-08-21\",\"2017-08-21\",\"2017-08-21\",\"2017-08-21\",\"2017-08-22\",\"2017-08-22\",\"2017-08-22\",\"2017-08-22\",\"2017-08-22\",\"2017-08-22\",\"2017-08-22\",\"2017-08-22\",\"2017-08-22\",\"2017-08-22\",\"2017-08-22\",\"2017-08-22\",\"2017-08-22\",\"2017-08-22\",\"2017-08-22\",\"2017-08-22\",\"2017-08-22\",\"2017-08-22\",\"2017-08-22\",\"2017-08-22\",\"2017-08-22\",\"2017-08-22\",\"2017-08-22\",\"2017-08-22\",\"2017-08-23\",\"2017-08-23\",\"2017-08-23\",\"2017-08-23\",\"2017-08-23\",\"2017-08-23\",\"2017-08-23\",\"2017-08-23\",\"2017-08-23\",\"2017-08-23\",\"2017-08-23\",\"2017-08-23\",\"2017-08-23\",\"2017-08-23\",\"2017-08-23\",\"2017-08-23\",\"2017-08-23\",\"2017-08-23\",\"2017-08-23\",\"2017-08-23\",\"2017-08-23\",\"2017-08-23\",\"2017-08-23\",\"2017-08-23\",\"2017-08-24\",\"2017-08-24\",\"2017-08-24\",\"2017-08-24\",\"2017-08-24\",\"2017-08-24\",\"2017-08-24\",\"2017-08-24\",\"2017-08-24\",\"2017-08-24\",\"2017-08-24\",\"2017-08-24\",\"2017-08-24\",\"2017-08-24\",\"2017-08-24\",\"2017-08-24\",\"2017-08-24\",\"2017-08-24\",\"2017-08-24\",\"2017-08-24\",\"2017-08-24\",\"2017-08-24\",\"2017-08-24\",\"2017-08-24\",\"2017-08-25\",\"2017-08-25\",\"2017-08-25\",\"2017-08-25\",\"2017-08-25\",\"2017-08-25\",\"2017-08-25\",\"2017-08-25\",\"2017-08-25\",\"2017-08-25\",\"2017-08-25\",\"2017-08-25\",\"2017-08-25\",\"2017-08-25\",\"2017-08-25\",\"2017-08-25\",\"2017-08-25\",\"2017-08-25\",\"2017-08-25\",\"2017-08-25\",\"2017-08-25\",\"2017-08-25\",\"2017-08-25\",\"2017-08-25\",\"2017-08-26\",\"2017-08-26\",\"2017-08-26\",\"2017-08-26\",\"2017-08-26\",\"2017-08-26\",\"2017-08-26\",\"2017-08-26\",\"2017-08-26\",\"2017-08-26\",\"2017-08-26\",\"2017-08-26\",\"2017-08-26\",\"2017-08-26\",\"2017-08-26\",\"2017-08-26\",\"2017-08-26\",\"2017-08-26\",\"2017-08-26\",\"2017-08-26\",\"2017-08-26\",\"2017-08-26\",\"2017-08-26\",\"2017-08-26\",\"2017-08-27\",\"2017-08-27\",\"2017-08-27\",\"2017-08-27\",\"2017-08-27\",\"2017-08-27\",\"2017-08-27\",\"2017-08-27\",\"2017-08-27\",\"2017-08-27\",\"2017-08-27\",\"2017-08-27\",\"2017-08-27\",\"2017-08-27\",\"2017-08-27\",\"2017-08-27\",\"2017-08-27\",\"2017-08-27\",\"2017-08-27\",\"2017-08-27\",\"2017-08-27\",\"2017-08-27\",\"2017-08-27\",\"2017-08-27\",\"2017-08-28\",\"2017-08-28\",\"2017-08-28\",\"2017-08-28\",\"2017-08-28\",\"2017-08-28\",\"2017-08-28\",\"2017-08-28\",\"2017-08-28\",\"2017-08-28\",\"2017-08-28\",\"2017-08-28\",\"2017-08-28\",\"2017-08-28\",\"2017-08-28\",\"2017-08-28\",\"2017-08-28\",\"2017-08-28\",\"2017-08-28\",\"2017-08-28\",\"2017-08-28\",\"2017-08-28\",\"2017-08-28\",\"2017-08-28\",\"2017-08-29\",\"2017-08-29\",\"2017-08-29\",\"2017-08-29\",\"2017-08-29\",\"2017-08-29\",\"2017-08-29\",\"2017-08-29\",\"2017-08-29\",\"2017-08-29\",\"2017-08-29\",\"2017-08-29\",\"2017-08-29\",\"2017-08-29\",\"2017-08-29\",\"2017-08-29\",\"2017-08-29\",\"2017-08-29\",\"2017-08-29\",\"2017-08-29\",\"2017-08-29\",\"2017-08-29\",\"2017-08-29\",\"2017-08-29\"],\"description\":{\"__ndarray__\":\"AAAAAAAA+H8AAAAAAAD4fwAAAAAAAPh/AAAAAAAA+H8AAAAAAAD4fwAAAAAAAPh/AAAAAAAA+H8AAAAAAAD4fwAAAAAAAPh/AAAAAAAA+H8AAAAAAAD4fwAAAAAAAPh/AAAAAAAA+H8AAAAAAAD4fwAAAAAAAPh/AAAAAAAA+H8AAAAAAAD4fwAAAAAAAPh/AAAAAAAA+H8AAAAAAAD4fwAAAAAAAPh/AAAAAAAA+H8AAAAAAAD4fwAAAAAAAPh/AAAAAAAA+H8AAAAAAAD4fwAAAAAAAPh/AAAAAAAA+H8AAAAAAAD4fwAAAAAAAPh/AAAAAAAA+H8AAAAAAAD4fwAAAAAAAPh/AAAAAAAA+H8AAAAAAAD4fwAAAAAAAPh/AAAAAAAA+H8AAAAAAAD4fwAAAAAAAPh/AAAAAAAA+H8AAAAAAAD4fwAAAAAAAPh/AAAAAAAA+H8AAAAAAAD4fwAAAAAAAPh/AAAAAAAA+H8AAAAAAAD4fwAAAAAAAPh/AAAAAAAA+H8AAAAAAAD4fwAAAAAAAPh/AAAAAAAA+H8AAAAAAAD4fwAAAAAAAPh/AAAAAAAA+H8AAAAAAAD4fwAAAAAAAPh/AAAAAAAA+H8AAAAAAAD4fwAAAAAAAPh/AAAAAAAA+H8AAAAAAAD4fwAAAAAAAPh/AAAAAAAA+H8AAAAAAAD4fwAAAAAAAPh/AAAAAAAA+H8AAAAAAAD4fwAAAAAAAPh/AAAAAAAA+H8AAAAAAAD4fwAAAAAAAPh/AAAAAAAA+H8AAAAAAAD4fwAAAAAAAPh/AAAAAAAA+H8AAAAAAAD4fwAAAAAAAPh/AAAAAAAA+H8AAAAAAAD4fwAAAAAAAPh/AAAAAAAA+H8AAAAAAAD4fwAAAAAAAPh/AAAAAAAA+H8AAAAAAAD4fwAAAAAAAPh/AAAAAAAA+H8AAAAAAAD4fwAAAAAAAPh/AAAAAAAA+H8AAAAAAAD4fwAAAAAAAPh/AAAAAAAA+H8AAAAAAAD4fwAAAAAAAPh/AAAAAAAA+H8AAAAAAAD4fwAAAAAAAPh/AAAAAAAA+H8AAAAAAAD4fwAAAAAAAPh/AAAAAAAA+H8AAAAAAAD4fwAAAAAAAPh/AAAAAAAA+H8AAAAAAAD4fwAAAAAAAPh/AAAAAAAA+H8AAAAAAAD4fwAAAAAAAPh/AAAAAAAA+H8AAAAAAAD4fwAAAAAAAPh/AAAAAAAA+H8AAAAAAAD4fwAAAAAAAPh/AAAAAAAA+H8AAAAAAAD4fwAAAAAAAPh/AAAAAAAA+H8AAAAAAAD4fwAAAAAAAPh/AAAAAAAA+H8AAAAAAAD4fwAAAAAAAPh/AAAAAAAA+H8AAAAAAAD4fwAAAAAAAPh/AAAAAAAA+H8AAAAAAAD4fwAAAAAAAPh/AAAAAAAA+H8AAAAAAAD4fwAAAAAAAPh/AAAAAAAA+H8AAAAAAAD4fwAAAAAAAPh/AAAAAAAA+H8AAAAAAAD4fwAAAAAAAPh/AAAAAAAA+H8AAAAAAAD4fwAAAAAAAPh/AAAAAAAA+H8AAAAAAAD4fwAAAAAAAPh/AAAAAAAA+H8AAAAAAAD4fwAAAAAAAPh/AAAAAAAA+H8AAAAAAAD4fwAAAAAAAPh/AAAAAAAA+H8AAAAAAAD4fwAAAAAAAPh/AAAAAAAA+H8AAAAAAAD4fwAAAAAAAPh/AAAAAAAA+H8AAAAAAAD4fwAAAAAAAPh/AAAAAAAA+H8AAAAAAAD4fwAAAAAAAPh/AAAAAAAA+H8AAAAAAAD4fwAAAAAAAPh/AAAAAAAA+H8AAAAAAAD4fwAAAAAAAPh/AAAAAAAA+H8AAAAAAAD4fwAAAAAAAPh/AAAAAAAA+H8AAAAAAAD4fwAAAAAAAPh/AAAAAAAA+H8AAAAAAAD4fwAAAAAAAPh/AAAAAAAA+H8AAAAAAAD4fwAAAAAAAPh/AAAAAAAA+H8AAAAAAAD4fwAAAAAAAPh/AAAAAAAA+H8AAAAAAAD4fwAAAAAAAPh/AAAAAAAA+H8AAAAAAAD4fwAAAAAAAPh/AAAAAAAA+H8AAAAAAAD4fwAAAAAAAPh/AAAAAAAA+H8AAAAAAAD4fwAAAAAAAPh/AAAAAAAA+H8AAAAAAAD4fwAAAAAAAPh/AAAAAAAA+H8AAAAAAAD4fwAAAAAAAPh/AAAAAAAA+H8AAAAAAAD4fwAAAAAAAPh/AAAAAAAA+H8AAAAAAAD4fwAAAAAAAPh/AAAAAAAA+H8AAAAAAAD4fwAAAAAAAPh/AAAAAAAA+H8AAAAAAAD4fwAAAAAAAPh/AAAAAAAA+H8AAAAAAAD4fwAAAAAAAPh/AAAAAAAA+H8AAAAAAAD4fwAAAAAAAPh/AAAAAAAA+H8AAAAAAAD4fwAAAAAAAPh/AAAAAAAA+H8AAAAAAAD4fwAAAAAAAPh/AAAAAAAA+H8AAAAAAAD4fwAAAAAAAPh/AAAAAAAA+H8AAAAAAAD4fwAAAAAAAPh/AAAAAAAA+H8AAAAAAAD4fwAAAAAAAPh/AAAAAAAA+H8AAAAAAAD4fwAAAAAAAPh/AAAAAAAA+H8AAAAAAAD4fwAAAAAAAPh/AAAAAAAA+H8AAAAAAAD4fwAAAAAAAPh/AAAAAAAA+H8AAAAAAAD4fwAAAAAAAPh/AAAAAAAA+H8AAAAAAAD4fwAAAAAAAPh/AAAAAAAA+H8AAAAAAAD4fwAAAAAAAPh/AAAAAAAA+H8AAAAAAAD4fwAAAAAAAPh/AAAAAAAA+H8AAAAAAAD4fwAAAAAAAPh/AAAAAAAA+H8AAAAAAAD4fwAAAAAAAPh/AAAAAAAA+H8AAAAAAAD4fwAAAAAAAPh/AAAAAAAA+H8AAAAAAAD4fwAAAAAAAPh/AAAAAAAA+H8AAAAAAAD4fwAAAAAAAPh/AAAAAAAA+H8AAAAAAAD4fwAAAAAAAPh/AAAAAAAA+H8AAAAAAAD4fwAAAAAAAPh/AAAAAAAA+H8AAAAAAAD4fwAAAAAAAPh/AAAAAAAA+H8AAAAAAAD4fwAAAAAAAPh/AAAAAAAA+H8AAAAAAAD4fwAAAAAAAPh/\",\"dtype\":\"float64\",\"shape\":[288]},\"factor\":[5,5,5,5,5,5,5,5,5,5,5,5,5,5,5,5,5,5,5,5,5,5,5,5,5,5,5,5,5,5,5,5,5,5,5,5,5,5,5,5,5,5,5,5,5,5,5,5,5,5,5,5,5,5,5,5,5,5,5,5,5,5,5,5,5,5,5,5,5,5,5,5,5,5,5,5,5,5,5,5,5,5,5,5,5,5,5,5,5,5,5,5,5,5,5,5,5,5,5,5,5,5,5,5,5,5,5,5,5,5,5,5,5,5,5,5,5,5,5,5,5,5,5,5,5,5,5,5,5,5,5,5,5,5,5,5,5,5,5,5,5,5,5,5,5,5,5,5,5,5,5,5,5,5,5,5,5,5,5,5,5,5,5,5,5,5,5,5,5,5,5,5,5,5,5,5,5,5,5,5,5,5,5,5,5,5,5,5,5,5,5,5,5,5,5,5,5,5,5,5,5,5,5,5,5,5,5,5,5,5,5,5,5,5,5,5,5,5,5,5,5,5,5,5,5,5,5,5,5,5,5,5,5,5,5,5,5,5,5,5,5,5,5,5,5,5,5,5,5,5,5,5,5,5,5,5,5,5,5,5,5,5,5,5,5,5,5,5,5,5,5,5,5,5,5,5,5,5,5,5,5,5,5,5,5,5,5,5],\"id\":[59,59,59,59,59,59,59,59,59,59,59,59,59,59,59,59,59,59,59,59,59,59,59,59,59,59,59,59,59,59,59,59,59,59,59,59,59,59,59,59,59,59,59,59,59,59,59,59,59,59,59,59,59,59,59,59,59,59,59,59,59,59,59,59,59,59,59,59,59,59,59,59,59,59,59,59,59,59,59,59,59,59,59,59,59,59,59,59,59,59,59,59,59,59,59,59,59,59,59,59,59,59,59,59,59,59,59,59,59,59,59,59,59,59,59,59,59,59,59,59,59,59,59,59,59,59,59,59,59,59,59,59,59,59,59,59,59,59,59,59,59,59,59,59,59,59,59,59,59,59,59,59,59,59,59,59,59,59,59,59,59,59,59,59,59,59,59,59,59,59,59,59,59,59,59,59,59,59,59,59,59,59,59,59,59,59,59,59,59,59,59,59,59,59,59,59,59,59,59,59,59,59,59,59,59,59,59,59,59,59,59,59,59,59,59,59,59,59,59,59,59,59,59,59,59,59,59,59,59,59,59,59,59,59,59,59,59,59,59,59,59,59,59,59,59,59,59,59,59,59,59,59,59,59,59,59,59,59,59,59,59,59,59,59,59,59,59,59,59,59,59,59,59,59,59,59,59,59,59,59,59,59,59,59,59,59,59,59],\"index\":[0,1,2,3,4,5,6,7,8,9,10,11,12,13,14,15,16,17,18,19,20,21,22,23,24,25,26,27,28,29,30,31,32,33,34,35,36,37,38,39,40,41,42,43,44,45,46,47,48,49,50,51,52,53,54,55,56,57,58,59,60,61,62,63,64,65,66,67,68,69,70,71,72,73,74,75,76,77,78,79,80,81,82,83,84,85,86,87,88,89,90,91,92,93,94,95,96,97,98,99,100,101,102,103,104,105,106,107,108,109,110,111,112,113,114,115,116,117,118,119,120,121,122,123,124,125,126,127,128,129,130,131,132,133,134,135,136,137,138,139,140,141,142,143,144,145,146,147,148,149,150,151,152,153,154,155,156,157,158,159,160,161,162,163,164,165,166,167,168,169,170,171,172,173,174,175,176,177,178,179,180,181,182,183,184,185,186,187,188,189,190,191,192,193,194,195,196,197,198,199,200,201,202,203,204,205,206,207,208,209,210,211,212,213,214,215,216,217,218,219,220,221,222,223,224,225,226,227,228,229,230,231,232,233,234,235,236,237,238,239,240,241,242,243,244,245,246,247,248,249,250,251,252,253,254,255,256,257,258,259,260,261,262,263,264,265,266,267,268,269,270,271,272,273,274,275,276,277,278,279,280,281,282,283,284,285,286,287],\"name\":[\"Hulings Hall - Electricity\",\"Hulings Hall - Electricity\",\"Hulings Hall - Electricity\",\"Hulings Hall - Electricity\",\"Hulings Hall - Electricity\",\"Hulings Hall - Electricity\",\"Hulings Hall - Electricity\",\"Hulings Hall - Electricity\",\"Hulings Hall - Electricity\",\"Hulings Hall - Electricity\",\"Hulings Hall - Electricity\",\"Hulings Hall - Electricity\",\"Hulings Hall - Electricity\",\"Hulings Hall - Electricity\",\"Hulings Hall - Electricity\",\"Hulings Hall - Electricity\",\"Hulings Hall - Electricity\",\"Hulings Hall - Electricity\",\"Hulings Hall - Electricity\",\"Hulings Hall - Electricity\",\"Hulings Hall - Electricity\",\"Hulings Hall - Electricity\",\"Hulings Hall - Electricity\",\"Hulings Hall - Electricity\",\"Hulings Hall - Electricity\",\"Hulings Hall - Electricity\",\"Hulings Hall - Electricity\",\"Hulings Hall - Electricity\",\"Hulings Hall - Electricity\",\"Hulings Hall - Electricity\",\"Hulings Hall - Electricity\",\"Hulings Hall - Electricity\",\"Hulings Hall - Electricity\",\"Hulings Hall - Electricity\",\"Hulings Hall - Electricity\",\"Hulings Hall - Electricity\",\"Hulings Hall - Electricity\",\"Hulings Hall - Electricity\",\"Hulings Hall - Electricity\",\"Hulings Hall - Electricity\",\"Hulings Hall - Electricity\",\"Hulings Hall - Electricity\",\"Hulings Hall - Electricity\",\"Hulings Hall - Electricity\",\"Hulings Hall - Electricity\",\"Hulings Hall - Electricity\",\"Hulings Hall - Electricity\",\"Hulings Hall - Electricity\",\"Hulings Hall - Electricity\",\"Hulings Hall - Electricity\",\"Hulings Hall - Electricity\",\"Hulings Hall - Electricity\",\"Hulings Hall - Electricity\",\"Hulings Hall - Electricity\",\"Hulings Hall - Electricity\",\"Hulings Hall - Electricity\",\"Hulings Hall - Electricity\",\"Hulings Hall - Electricity\",\"Hulings Hall - Electricity\",\"Hulings Hall - Electricity\",\"Hulings Hall - Electricity\",\"Hulings Hall - Electricity\",\"Hulings Hall - Electricity\",\"Hulings Hall - Electricity\",\"Hulings Hall - Electricity\",\"Hulings Hall - Electricity\",\"Hulings Hall - Electricity\",\"Hulings Hall - Electricity\",\"Hulings Hall - Electricity\",\"Hulings Hall - Electricity\",\"Hulings Hall - Electricity\",\"Hulings Hall - Electricity\",\"Hulings Hall - Electricity\",\"Hulings Hall - Electricity\",\"Hulings Hall - Electricity\",\"Hulings Hall - Electricity\",\"Hulings Hall - Electricity\",\"Hulings Hall - Electricity\",\"Hulings Hall - Electricity\",\"Hulings Hall - Electricity\",\"Hulings Hall - Electricity\",\"Hulings Hall - Electricity\",\"Hulings Hall - Electricity\",\"Hulings Hall - Electricity\",\"Hulings Hall - Electricity\",\"Hulings Hall - Electricity\",\"Hulings Hall - Electricity\",\"Hulings Hall - Electricity\",\"Hulings Hall - Electricity\",\"Hulings Hall - Electricity\",\"Hulings Hall - Electricity\",\"Hulings Hall - Electricity\",\"Hulings Hall - Electricity\",\"Hulings Hall - Electricity\",\"Hulings Hall - Electricity\",\"Hulings Hall - Electricity\",\"Hulings Hall - Electricity\",\"Hulings Hall - Electricity\",\"Hulings Hall - Electricity\",\"Hulings Hall - Electricity\",\"Hulings Hall - Electricity\",\"Hulings Hall - Electricity\",\"Hulings Hall - Electricity\",\"Hulings Hall - Electricity\",\"Hulings Hall - Electricity\",\"Hulings Hall - Electricity\",\"Hulings Hall - Electricity\",\"Hulings Hall - Electricity\",\"Hulings Hall - Electricity\",\"Hulings Hall - Electricity\",\"Hulings Hall - Electricity\",\"Hulings Hall - Electricity\",\"Hulings Hall - Electricity\",\"Hulings Hall - Electricity\",\"Hulings Hall - Electricity\",\"Hulings Hall - Electricity\",\"Hulings Hall - Electricity\",\"Hulings Hall - Electricity\",\"Hulings Hall - Electricity\",\"Hulings Hall - Electricity\",\"Hulings Hall - Electricity\",\"Hulings Hall - Electricity\",\"Hulings Hall - Electricity\",\"Hulings Hall - Electricity\",\"Hulings Hall - Electricity\",\"Hulings Hall - Electricity\",\"Hulings Hall - Electricity\",\"Hulings Hall - Electricity\",\"Hulings Hall - Electricity\",\"Hulings Hall - Electricity\",\"Hulings Hall - Electricity\",\"Hulings Hall - Electricity\",\"Hulings Hall - Electricity\",\"Hulings Hall - Electricity\",\"Hulings Hall - Electricity\",\"Hulings Hall - Electricity\",\"Hulings Hall - Electricity\",\"Hulings Hall - Electricity\",\"Hulings Hall - Electricity\",\"Hulings Hall - Electricity\",\"Hulings Hall - Electricity\",\"Hulings Hall - Electricity\",\"Hulings Hall - Electricity\",\"Hulings Hall - Electricity\",\"Hulings Hall - Electricity\",\"Hulings Hall - Electricity\",\"Hulings Hall - Electricity\",\"Hulings Hall - Electricity\",\"Hulings Hall - Electricity\",\"Hulings Hall - Electricity\",\"Hulings Hall - Electricity\",\"Hulings Hall - Electricity\",\"Hulings Hall - Electricity\",\"Hulings Hall - Electricity\",\"Hulings Hall - Electricity\",\"Hulings Hall - Electricity\",\"Hulings Hall - Electricity\",\"Hulings Hall - Electricity\",\"Hulings Hall - Electricity\",\"Hulings Hall - Electricity\",\"Hulings Hall - Electricity\",\"Hulings Hall - Electricity\",\"Hulings Hall - Electricity\",\"Hulings Hall - Electricity\",\"Hulings Hall - Electricity\",\"Hulings Hall - Electricity\",\"Hulings Hall - Electricity\",\"Hulings Hall - Electricity\",\"Hulings Hall - Electricity\",\"Hulings Hall - Electricity\",\"Hulings Hall - Electricity\",\"Hulings Hall - Electricity\",\"Hulings Hall - Electricity\",\"Hulings Hall - Electricity\",\"Hulings Hall - Electricity\",\"Hulings Hall - Electricity\",\"Hulings Hall - Electricity\",\"Hulings Hall - Electricity\",\"Hulings Hall - Electricity\",\"Hulings Hall - Electricity\",\"Hulings Hall - Electricity\",\"Hulings Hall - Electricity\",\"Hulings Hall - Electricity\",\"Hulings Hall - Electricity\",\"Hulings Hall - Electricity\",\"Hulings Hall - Electricity\",\"Hulings Hall - Electricity\",\"Hulings Hall - Electricity\",\"Hulings Hall - Electricity\",\"Hulings Hall - Electricity\",\"Hulings Hall - Electricity\",\"Hulings Hall - Electricity\",\"Hulings Hall - Electricity\",\"Hulings Hall - Electricity\",\"Hulings Hall - Electricity\",\"Hulings Hall - Electricity\",\"Hulings Hall - Electricity\",\"Hulings Hall - Electricity\",\"Hulings Hall - Electricity\",\"Hulings Hall - Electricity\",\"Hulings Hall - Electricity\",\"Hulings Hall - Electricity\",\"Hulings Hall - Electricity\",\"Hulings Hall - Electricity\",\"Hulings Hall - Electricity\",\"Hulings Hall - Electricity\",\"Hulings Hall - Electricity\",\"Hulings Hall - Electricity\",\"Hulings Hall - Electricity\",\"Hulings Hall - Electricity\",\"Hulings Hall - Electricity\",\"Hulings Hall - Electricity\",\"Hulings Hall - Electricity\",\"Hulings Hall - Electricity\",\"Hulings Hall - Electricity\",\"Hulings Hall - Electricity\",\"Hulings Hall - Electricity\",\"Hulings Hall - Electricity\",\"Hulings Hall - Electricity\",\"Hulings Hall - Electricity\",\"Hulings Hall - Electricity\",\"Hulings Hall - Electricity\",\"Hulings Hall - Electricity\",\"Hulings Hall - Electricity\",\"Hulings Hall - Electricity\",\"Hulings Hall - Electricity\",\"Hulings Hall - Electricity\",\"Hulings Hall - Electricity\",\"Hulings Hall - Electricity\",\"Hulings Hall - Electricity\",\"Hulings Hall - Electricity\",\"Hulings Hall - Electricity\",\"Hulings Hall - Electricity\",\"Hulings Hall - Electricity\",\"Hulings Hall - Electricity\",\"Hulings Hall - Electricity\",\"Hulings Hall - Electricity\",\"Hulings Hall - Electricity\",\"Hulings Hall - Electricity\",\"Hulings Hall - Electricity\",\"Hulings Hall - Electricity\",\"Hulings Hall - Electricity\",\"Hulings Hall - Electricity\",\"Hulings Hall - Electricity\",\"Hulings Hall - Electricity\",\"Hulings Hall - Electricity\",\"Hulings Hall - Electricity\",\"Hulings Hall - Electricity\",\"Hulings Hall - Electricity\",\"Hulings Hall - Electricity\",\"Hulings Hall - Electricity\",\"Hulings Hall - Electricity\",\"Hulings Hall - Electricity\",\"Hulings Hall - Electricity\",\"Hulings Hall - Electricity\",\"Hulings Hall - Electricity\",\"Hulings Hall - Electricity\",\"Hulings Hall - Electricity\",\"Hulings Hall - Electricity\",\"Hulings Hall - Electricity\",\"Hulings Hall - Electricity\",\"Hulings Hall - Electricity\",\"Hulings Hall - Electricity\",\"Hulings Hall - Electricity\",\"Hulings Hall - Electricity\",\"Hulings Hall - Electricity\",\"Hulings Hall - Electricity\",\"Hulings Hall - Electricity\",\"Hulings Hall - Electricity\",\"Hulings Hall - Electricity\",\"Hulings Hall - Electricity\",\"Hulings Hall - Electricity\",\"Hulings Hall - Electricity\",\"Hulings Hall - Electricity\",\"Hulings Hall - Electricity\",\"Hulings Hall - Electricity\",\"Hulings Hall - Electricity\",\"Hulings Hall - Electricity\",\"Hulings Hall - Electricity\",\"Hulings Hall - Electricity\",\"Hulings Hall - Electricity\",\"Hulings Hall - Electricity\",\"Hulings Hall - Electricity\",\"Hulings Hall - Electricity\",\"Hulings Hall - Electricity\",\"Hulings Hall - Electricity\",\"Hulings Hall - Electricity\",\"Hulings Hall - Electricity\"],\"pointid\":[305,305,305,305,305,305,305,305,305,305,305,305,305,305,305,305,305,305,305,305,305,305,305,305,305,305,305,305,305,305,305,305,305,305,305,305,305,305,305,305,305,305,305,305,305,305,305,305,305,305,305,305,305,305,305,305,305,305,305,305,305,305,305,305,305,305,305,305,305,305,305,305,305,305,305,305,305,305,305,305,305,305,305,305,305,305,305,305,305,305,305,305,305,305,305,305,305,305,305,305,305,305,305,305,305,305,305,305,305,305,305,305,305,305,305,305,305,305,305,305,305,305,305,305,305,305,305,305,305,305,305,305,305,305,305,305,305,305,305,305,305,305,305,305,305,305,305,305,305,305,305,305,305,305,305,305,305,305,305,305,305,305,305,305,305,305,305,305,305,305,305,305,305,305,305,305,305,305,305,305,305,305,305,305,305,305,305,305,305,305,305,305,305,305,305,305,305,305,305,305,305,305,305,305,305,305,305,305,305,305,305,305,305,305,305,305,305,305,305,305,305,305,305,305,305,305,305,305,305,305,305,305,305,305,305,305,305,305,305,305,305,305,305,305,305,305,305,305,305,305,305,305,305,305,305,305,305,305,305,305,305,305,305,305,305,305,305,305,305,305,305,305,305,305,305,305,305,305,305,305,305,305,305,305,305,305,305,305],\"pointname\":[\"Hulings Hall - Electricity\",\"Hulings Hall - Electricity\",\"Hulings Hall - Electricity\",\"Hulings Hall - Electricity\",\"Hulings Hall - Electricity\",\"Hulings Hall - Electricity\",\"Hulings Hall - Electricity\",\"Hulings Hall - Electricity\",\"Hulings Hall - Electricity\",\"Hulings Hall - Electricity\",\"Hulings Hall - Electricity\",\"Hulings Hall - Electricity\",\"Hulings Hall - Electricity\",\"Hulings Hall - Electricity\",\"Hulings Hall - Electricity\",\"Hulings Hall - Electricity\",\"Hulings Hall - Electricity\",\"Hulings Hall - Electricity\",\"Hulings Hall - Electricity\",\"Hulings Hall - Electricity\",\"Hulings Hall - Electricity\",\"Hulings Hall - Electricity\",\"Hulings Hall - Electricity\",\"Hulings Hall - Electricity\",\"Hulings Hall - Electricity\",\"Hulings Hall - Electricity\",\"Hulings Hall - Electricity\",\"Hulings Hall - Electricity\",\"Hulings Hall - Electricity\",\"Hulings Hall - Electricity\",\"Hulings Hall - Electricity\",\"Hulings Hall - Electricity\",\"Hulings Hall - Electricity\",\"Hulings Hall - Electricity\",\"Hulings Hall - Electricity\",\"Hulings Hall - Electricity\",\"Hulings Hall - Electricity\",\"Hulings Hall - Electricity\",\"Hulings Hall - Electricity\",\"Hulings Hall - Electricity\",\"Hulings Hall - Electricity\",\"Hulings Hall - Electricity\",\"Hulings Hall - Electricity\",\"Hulings Hall - Electricity\",\"Hulings Hall - Electricity\",\"Hulings Hall - Electricity\",\"Hulings Hall - Electricity\",\"Hulings Hall - Electricity\",\"Hulings Hall - Electricity\",\"Hulings Hall - Electricity\",\"Hulings Hall - Electricity\",\"Hulings Hall - Electricity\",\"Hulings Hall - Electricity\",\"Hulings Hall - Electricity\",\"Hulings Hall - Electricity\",\"Hulings Hall - Electricity\",\"Hulings Hall - Electricity\",\"Hulings Hall - Electricity\",\"Hulings Hall - Electricity\",\"Hulings Hall - Electricity\",\"Hulings Hall - Electricity\",\"Hulings Hall - Electricity\",\"Hulings Hall - Electricity\",\"Hulings Hall - Electricity\",\"Hulings Hall - Electricity\",\"Hulings Hall - Electricity\",\"Hulings Hall - Electricity\",\"Hulings Hall - Electricity\",\"Hulings Hall - Electricity\",\"Hulings Hall - Electricity\",\"Hulings Hall - Electricity\",\"Hulings Hall - Electricity\",\"Hulings Hall - Electricity\",\"Hulings Hall - Electricity\",\"Hulings Hall - Electricity\",\"Hulings Hall - Electricity\",\"Hulings Hall - Electricity\",\"Hulings Hall - Electricity\",\"Hulings Hall - Electricity\",\"Hulings Hall - Electricity\",\"Hulings Hall - Electricity\",\"Hulings Hall - Electricity\",\"Hulings Hall - Electricity\",\"Hulings Hall - Electricity\",\"Hulings Hall - Electricity\",\"Hulings Hall - Electricity\",\"Hulings Hall - Electricity\",\"Hulings Hall - Electricity\",\"Hulings Hall - Electricity\",\"Hulings Hall - Electricity\",\"Hulings Hall - Electricity\",\"Hulings Hall - Electricity\",\"Hulings Hall - Electricity\",\"Hulings Hall - Electricity\",\"Hulings Hall - Electricity\",\"Hulings Hall - Electricity\",\"Hulings Hall - Electricity\",\"Hulings Hall - Electricity\",\"Hulings Hall - Electricity\",\"Hulings Hall - Electricity\",\"Hulings Hall - Electricity\",\"Hulings Hall - Electricity\",\"Hulings Hall - Electricity\",\"Hulings Hall - Electricity\",\"Hulings Hall - Electricity\",\"Hulings Hall - Electricity\",\"Hulings Hall - Electricity\",\"Hulings Hall - Electricity\",\"Hulings Hall - Electricity\",\"Hulings Hall - Electricity\",\"Hulings Hall - Electricity\",\"Hulings Hall - Electricity\",\"Hulings Hall - Electricity\",\"Hulings Hall - Electricity\",\"Hulings Hall - Electricity\",\"Hulings Hall - Electricity\",\"Hulings Hall - Electricity\",\"Hulings Hall - Electricity\",\"Hulings Hall - Electricity\",\"Hulings Hall - Electricity\",\"Hulings Hall - Electricity\",\"Hulings Hall - Electricity\",\"Hulings Hall - Electricity\",\"Hulings Hall - Electricity\",\"Hulings Hall - Electricity\",\"Hulings Hall - Electricity\",\"Hulings Hall - Electricity\",\"Hulings Hall - Electricity\",\"Hulings Hall - Electricity\",\"Hulings Hall - Electricity\",\"Hulings Hall - Electricity\",\"Hulings Hall - Electricity\",\"Hulings Hall - Electricity\",\"Hulings Hall - Electricity\",\"Hulings Hall - Electricity\",\"Hulings Hall - Electricity\",\"Hulings Hall - Electricity\",\"Hulings Hall - Electricity\",\"Hulings Hall - Electricity\",\"Hulings Hall - Electricity\",\"Hulings Hall - Electricity\",\"Hulings Hall - Electricity\",\"Hulings Hall - Electricity\",\"Hulings Hall - Electricity\",\"Hulings Hall - Electricity\",\"Hulings Hall - Electricity\",\"Hulings Hall - Electricity\",\"Hulings Hall - Electricity\",\"Hulings Hall - Electricity\",\"Hulings Hall - Electricity\",\"Hulings Hall - Electricity\",\"Hulings Hall - Electricity\",\"Hulings Hall - Electricity\",\"Hulings Hall - Electricity\",\"Hulings Hall - Electricity\",\"Hulings Hall - Electricity\",\"Hulings Hall - Electricity\",\"Hulings Hall - Electricity\",\"Hulings Hall - Electricity\",\"Hulings Hall - Electricity\",\"Hulings Hall - Electricity\",\"Hulings Hall - Electricity\",\"Hulings Hall - Electricity\",\"Hulings Hall - Electricity\",\"Hulings Hall - Electricity\",\"Hulings Hall - Electricity\",\"Hulings Hall - Electricity\",\"Hulings Hall - Electricity\",\"Hulings Hall - Electricity\",\"Hulings Hall - Electricity\",\"Hulings Hall - Electricity\",\"Hulings Hall - Electricity\",\"Hulings Hall - Electricity\",\"Hulings Hall - Electricity\",\"Hulings Hall - Electricity\",\"Hulings Hall - Electricity\",\"Hulings Hall - Electricity\",\"Hulings Hall - Electricity\",\"Hulings Hall - Electricity\",\"Hulings Hall - Electricity\",\"Hulings Hall - Electricity\",\"Hulings Hall - Electricity\",\"Hulings Hall - Electricity\",\"Hulings Hall - Electricity\",\"Hulings Hall - Electricity\",\"Hulings Hall - Electricity\",\"Hulings Hall - Electricity\",\"Hulings Hall - Electricity\",\"Hulings Hall - Electricity\",\"Hulings Hall - Electricity\",\"Hulings Hall - Electricity\",\"Hulings Hall - Electricity\",\"Hulings Hall - Electricity\",\"Hulings Hall - Electricity\",\"Hulings Hall - Electricity\",\"Hulings Hall - Electricity\",\"Hulings Hall - Electricity\",\"Hulings Hall - Electricity\",\"Hulings Hall - Electricity\",\"Hulings Hall - Electricity\",\"Hulings Hall - Electricity\",\"Hulings Hall - Electricity\",\"Hulings Hall - Electricity\",\"Hulings Hall - Electricity\",\"Hulings Hall - Electricity\",\"Hulings Hall - Electricity\",\"Hulings Hall - Electricity\",\"Hulings Hall - Electricity\",\"Hulings Hall - Electricity\",\"Hulings Hall - Electricity\",\"Hulings Hall - Electricity\",\"Hulings Hall - Electricity\",\"Hulings Hall - Electricity\",\"Hulings Hall - Electricity\",\"Hulings Hall - Electricity\",\"Hulings Hall - Electricity\",\"Hulings Hall - Electricity\",\"Hulings Hall - Electricity\",\"Hulings Hall - Electricity\",\"Hulings Hall - Electricity\",\"Hulings Hall - Electricity\",\"Hulings Hall - Electricity\",\"Hulings Hall - Electricity\",\"Hulings Hall - Electricity\",\"Hulings Hall - Electricity\",\"Hulings Hall - Electricity\",\"Hulings Hall - Electricity\",\"Hulings Hall - Electricity\",\"Hulings Hall - Electricity\",\"Hulings Hall - Electricity\",\"Hulings Hall - Electricity\",\"Hulings Hall - Electricity\",\"Hulings Hall - Electricity\",\"Hulings Hall - Electricity\",\"Hulings Hall - Electricity\",\"Hulings Hall - Electricity\",\"Hulings Hall - Electricity\",\"Hulings Hall - Electricity\",\"Hulings Hall - Electricity\",\"Hulings Hall - Electricity\",\"Hulings Hall - Electricity\",\"Hulings Hall - Electricity\",\"Hulings Hall - Electricity\",\"Hulings Hall - Electricity\",\"Hulings Hall - Electricity\",\"Hulings Hall - Electricity\",\"Hulings Hall - Electricity\",\"Hulings Hall - Electricity\",\"Hulings Hall - Electricity\",\"Hulings Hall - Electricity\",\"Hulings Hall - Electricity\",\"Hulings Hall - Electricity\",\"Hulings Hall - Electricity\",\"Hulings Hall - Electricity\",\"Hulings Hall - Electricity\",\"Hulings Hall - Electricity\",\"Hulings Hall - Electricity\",\"Hulings Hall - Electricity\",\"Hulings Hall - Electricity\",\"Hulings Hall - Electricity\",\"Hulings Hall - Electricity\",\"Hulings Hall - Electricity\",\"Hulings Hall - Electricity\",\"Hulings Hall - Electricity\",\"Hulings Hall - Electricity\",\"Hulings Hall - Electricity\",\"Hulings Hall - Electricity\",\"Hulings Hall - Electricity\",\"Hulings Hall - Electricity\",\"Hulings Hall - Electricity\",\"Hulings Hall - Electricity\",\"Hulings Hall - Electricity\",\"Hulings Hall - Electricity\",\"Hulings Hall - Electricity\",\"Hulings Hall - Electricity\",\"Hulings Hall - Electricity\",\"Hulings Hall - Electricity\",\"Hulings Hall - Electricity\",\"Hulings Hall - Electricity\",\"Hulings Hall - Electricity\",\"Hulings Hall - Electricity\",\"Hulings Hall - Electricity\",\"Hulings Hall - Electricity\",\"Hulings Hall - Electricity\",\"Hulings Hall - Electricity\",\"Hulings Hall - Electricity\",\"Hulings Hall - Electricity\",\"Hulings Hall - Electricity\"],\"pointtimestamp\":{\"__ndarray__\":\"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\",\"dtype\":\"float64\",\"shape\":[288]},\"pointvalue\":{\"__ndarray__\":\"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\",\"dtype\":\"float64\",\"shape\":[288]},\"returntype\":[\"float\",\"float\",\"float\",\"float\",\"float\",\"float\",\"float\",\"float\",\"float\",\"float\",\"float\",\"float\",\"float\",\"float\",\"float\",\"float\",\"float\",\"float\",\"float\",\"float\",\"float\",\"float\",\"float\",\"float\",\"float\",\"float\",\"float\",\"float\",\"float\",\"float\",\"float\",\"float\",\"float\",\"float\",\"float\",\"float\",\"float\",\"float\",\"float\",\"float\",\"float\",\"float\",\"float\",\"float\",\"float\",\"float\",\"float\",\"float\",\"float\",\"float\",\"float\",\"float\",\"float\",\"float\",\"float\",\"float\",\"float\",\"float\",\"float\",\"float\",\"float\",\"float\",\"float\",\"float\",\"float\",\"float\",\"float\",\"float\",\"float\",\"float\",\"float\",\"float\",\"float\",\"float\",\"float\",\"float\",\"float\",\"float\",\"float\",\"float\",\"float\",\"float\",\"float\",\"float\",\"float\",\"float\",\"float\",\"float\",\"float\",\"float\",\"float\",\"float\",\"float\",\"float\",\"float\",\"float\",\"float\",\"float\",\"float\",\"float\",\"float\",\"float\",\"float\",\"float\",\"float\",\"float\",\"float\",\"float\",\"float\",\"float\",\"float\",\"float\",\"float\",\"float\",\"float\",\"float\",\"float\",\"float\",\"float\",\"float\",\"float\",\"float\",\"float\",\"float\",\"float\",\"float\",\"float\",\"float\",\"float\",\"float\",\"float\",\"float\",\"float\",\"float\",\"float\",\"float\",\"float\",\"float\",\"float\",\"float\",\"float\",\"float\",\"float\",\"float\",\"float\",\"float\",\"float\",\"float\",\"float\",\"float\",\"float\",\"float\",\"float\",\"float\",\"float\",\"float\",\"float\",\"float\",\"float\",\"float\",\"float\",\"float\",\"float\",\"float\",\"float\",\"float\",\"float\",\"float\",\"float\",\"float\",\"float\",\"float\",\"float\",\"float\",\"float\",\"float\",\"float\",\"float\",\"float\",\"float\",\"float\",\"float\",\"float\",\"float\",\"float\",\"float\",\"float\",\"float\",\"float\",\"float\",\"float\",\"float\",\"float\",\"float\",\"float\",\"float\",\"float\",\"float\",\"float\",\"float\",\"float\",\"float\",\"float\",\"float\",\"float\",\"float\",\"float\",\"float\",\"float\",\"float\",\"float\",\"float\",\"float\",\"float\",\"float\",\"float\",\"float\",\"float\",\"float\",\"float\",\"float\",\"float\",\"float\",\"float\",\"float\",\"float\",\"float\",\"float\",\"float\",\"float\",\"float\",\"float\",\"float\",\"float\",\"float\",\"float\",\"float\",\"float\",\"float\",\"float\",\"float\",\"float\",\"float\",\"float\",\"float\",\"float\",\"float\",\"float\",\"float\",\"float\",\"float\",\"float\",\"float\",\"float\",\"float\",\"float\",\"float\",\"float\",\"float\",\"float\",\"float\",\"float\",\"float\",\"float\",\"float\",\"float\",\"float\",\"float\",\"float\",\"float\",\"float\",\"float\",\"float\",\"float\",\"float\",\"float\",\"float\",\"float\",\"float\",\"float\",\"float\",\"float\",\"float\",\"float\",\"float\",\"float\",\"float\",\"float\"],\"time\":[\"00:00\",\"01:00\",\"02:00\",\"03:00\",\"04:00\",\"05:00\",\"06:00\",\"07:00\",\"08:00\",\"09:00\",\"10:00\",\"11:00\",\"12:00\",\"13:00\",\"14:00\",\"15:00\",\"16:00\",\"17:00\",\"18:00\",\"19:00\",\"20:00\",\"21:00\",\"22:00\",\"23:00\",\"00:00\",\"01:00\",\"02:00\",\"03:00\",\"04:00\",\"05:00\",\"06:00\",\"07:00\",\"08:00\",\"09:00\",\"10:00\",\"11:00\",\"12:00\",\"13:00\",\"14:00\",\"15:00\",\"16:00\",\"17:00\",\"18:00\",\"19:00\",\"20:00\",\"21:00\",\"22:00\",\"23:00\",\"00:00\",\"01:00\",\"02:00\",\"03:00\",\"04:00\",\"05:00\",\"06:00\",\"07:00\",\"08:00\",\"09:00\",\"10:00\",\"11:00\",\"12:00\",\"13:00\",\"14:00\",\"15:00\",\"16:00\",\"17:00\",\"18:00\",\"19:00\",\"20:00\",\"21:00\",\"22:00\",\"23:00\",\"00:00\",\"01:00\",\"02:00\",\"03:00\",\"04:00\",\"05:00\",\"06:00\",\"07:00\",\"08:00\",\"09:00\",\"10:00\",\"11:00\",\"12:00\",\"13:00\",\"14:00\",\"15:00\",\"16:00\",\"17:00\",\"18:00\",\"19:00\",\"20:00\",\"21:00\",\"22:00\",\"23:00\",\"00:00\",\"01:00\",\"02:00\",\"03:00\",\"04:00\",\"05:00\",\"06:00\",\"07:00\",\"08:00\",\"09:00\",\"10:00\",\"11:00\",\"12:00\",\"13:00\",\"14:00\",\"15:00\",\"16:00\",\"17:00\",\"18:00\",\"19:00\",\"20:00\",\"21:00\",\"22:00\",\"23:00\",\"00:00\",\"01:00\",\"02:00\",\"03:00\",\"04:00\",\"05:00\",\"06:00\",\"07:00\",\"08:00\",\"09:00\",\"10:00\",\"11:00\",\"12:00\",\"13:00\",\"14:00\",\"15:00\",\"16:00\",\"17:00\",\"18:00\",\"19:00\",\"20:00\",\"21:00\",\"22:00\",\"23:00\",\"00:00\",\"01:00\",\"02:00\",\"03:00\",\"04:00\",\"05:00\",\"06:00\",\"07:00\",\"08:00\",\"09:00\",\"10:00\",\"11:00\",\"12:00\",\"13:00\",\"14:00\",\"15:00\",\"16:00\",\"17:00\",\"18:00\",\"19:00\",\"20:00\",\"21:00\",\"22:00\",\"23:00\",\"00:00\",\"01:00\",\"02:00\",\"03:00\",\"04:00\",\"05:00\",\"06:00\",\"07:00\",\"08:00\",\"09:00\",\"10:00\",\"11:00\",\"12:00\",\"13:00\",\"14:00\",\"15:00\",\"16:00\",\"17:00\",\"18:00\",\"19:00\",\"20:00\",\"21:00\",\"22:00\",\"23:00\",\"00:00\",\"01:00\",\"02:00\",\"03:00\",\"04:00\",\"05:00\",\"06:00\",\"07:00\",\"08:00\",\"09:00\",\"10:00\",\"11:00\",\"12:00\",\"13:00\",\"14:00\",\"15:00\",\"16:00\",\"17:00\",\"18:00\",\"19:00\",\"20:00\",\"21:00\",\"22:00\",\"23:00\",\"00:00\",\"01:00\",\"02:00\",\"03:00\",\"04:00\",\"05:00\",\"06:00\",\"07:00\",\"08:00\",\"09:00\",\"10:00\",\"11:00\",\"12:00\",\"13:00\",\"14:00\",\"15:00\",\"16:00\",\"17:00\",\"18:00\",\"19:00\",\"20:00\",\"21:00\",\"22:00\",\"23:00\",\"00:00\",\"01:00\",\"02:00\",\"03:00\",\"04:00\",\"05:00\",\"06:00\",\"07:00\",\"08:00\",\"09:00\",\"10:00\",\"11:00\",\"12:00\",\"13:00\",\"14:00\",\"15:00\",\"16:00\",\"17:00\",\"18:00\",\"19:00\",\"20:00\",\"21:00\",\"22:00\",\"23:00\",\"00:00\",\"01:00\",\"02:00\",\"03:00\",\"04:00\",\"05:00\",\"06:00\",\"07:00\",\"08:00\",\"09:00\",\"10:00\",\"11:00\",\"12:00\",\"13:00\",\"14:00\",\"15:00\",\"16:00\",\"17:00\",\"18:00\",\"19:00\",\"20:00\",\"21:00\",\"22:00\",\"23:00\"],\"units\":[\"kWh\",\"kWh\",\"kWh\",\"kWh\",\"kWh\",\"kWh\",\"kWh\",\"kWh\",\"kWh\",\"kWh\",\"kWh\",\"kWh\",\"kWh\",\"kWh\",\"kWh\",\"kWh\",\"kWh\",\"kWh\",\"kWh\",\"kWh\",\"kWh\",\"kWh\",\"kWh\",\"kWh\",\"kWh\",\"kWh\",\"kWh\",\"kWh\",\"kWh\",\"kWh\",\"kWh\",\"kWh\",\"kWh\",\"kWh\",\"kWh\",\"kWh\",\"kWh\",\"kWh\",\"kWh\",\"kWh\",\"kWh\",\"kWh\",\"kWh\",\"kWh\",\"kWh\",\"kWh\",\"kWh\",\"kWh\",\"kWh\",\"kWh\",\"kWh\",\"kWh\",\"kWh\",\"kWh\",\"kWh\",\"kWh\",\"kWh\",\"kWh\",\"kWh\",\"kWh\",\"kWh\",\"kWh\",\"kWh\",\"kWh\",\"kWh\",\"kWh\",\"kWh\",\"kWh\",\"kWh\",\"kWh\",\"kWh\",\"kWh\",\"kWh\",\"kWh\",\"kWh\",\"kWh\",\"kWh\",\"kWh\",\"kWh\",\"kWh\",\"kWh\",\"kWh\",\"kWh\",\"kWh\",\"kWh\",\"kWh\",\"kWh\",\"kWh\",\"kWh\",\"kWh\",\"kWh\",\"kWh\",\"kWh\",\"kWh\",\"kWh\",\"kWh\",\"kWh\",\"kWh\",\"kWh\",\"kWh\",\"kWh\",\"kWh\",\"kWh\",\"kWh\",\"kWh\",\"kWh\",\"kWh\",\"kWh\",\"kWh\",\"kWh\",\"kWh\",\"kWh\",\"kWh\",\"kWh\",\"kWh\",\"kWh\",\"kWh\",\"kWh\",\"kWh\",\"kWh\",\"kWh\",\"kWh\",\"kWh\",\"kWh\",\"kWh\",\"kWh\",\"kWh\",\"kWh\",\"kWh\",\"kWh\",\"kWh\",\"kWh\",\"kWh\",\"kWh\",\"kWh\",\"kWh\",\"kWh\",\"kWh\",\"kWh\",\"kWh\",\"kWh\",\"kWh\",\"kWh\",\"kWh\",\"kWh\",\"kWh\",\"kWh\",\"kWh\",\"kWh\",\"kWh\",\"kWh\",\"kWh\",\"kWh\",\"kWh\",\"kWh\",\"kWh\",\"kWh\",\"kWh\",\"kWh\",\"kWh\",\"kWh\",\"kWh\",\"kWh\",\"kWh\",\"kWh\",\"kWh\",\"kWh\",\"kWh\",\"kWh\",\"kWh\",\"kWh\",\"kWh\",\"kWh\",\"kWh\",\"kWh\",\"kWh\",\"kWh\",\"kWh\",\"kWh\",\"kWh\",\"kWh\",\"kWh\",\"kWh\",\"kWh\",\"kWh\",\"kWh\",\"kWh\",\"kWh\",\"kWh\",\"kWh\",\"kWh\",\"kWh\",\"kWh\",\"kWh\",\"kWh\",\"kWh\",\"kWh\",\"kWh\",\"kWh\",\"kWh\",\"kWh\",\"kWh\",\"kWh\",\"kWh\",\"kWh\",\"kWh\",\"kWh\",\"kWh\",\"kWh\",\"kWh\",\"kWh\",\"kWh\",\"kWh\",\"kWh\",\"kWh\",\"kWh\",\"kWh\",\"kWh\",\"kWh\",\"kWh\",\"kWh\",\"kWh\",\"kWh\",\"kWh\",\"kWh\",\"kWh\",\"kWh\",\"kWh\",\"kWh\",\"kWh\",\"kWh\",\"kWh\",\"kWh\",\"kWh\",\"kWh\",\"kWh\",\"kWh\",\"kWh\",\"kWh\",\"kWh\",\"kWh\",\"kWh\",\"kWh\",\"kWh\",\"kWh\",\"kWh\",\"kWh\",\"kWh\",\"kWh\",\"kWh\",\"kWh\",\"kWh\",\"kWh\",\"kWh\",\"kWh\",\"kWh\",\"kWh\",\"kWh\",\"kWh\",\"kWh\",\"kWh\",\"kWh\",\"kWh\",\"kWh\",\"kWh\",\"kWh\",\"kWh\",\"kWh\",\"kWh\",\"kWh\",\"kWh\",\"kWh\",\"kWh\",\"kWh\",\"kWh\",\"kWh\",\"kWh\",\"kWh\",\"kWh\",\"kWh\",\"kWh\",\"kWh\",\"kWh\",\"kWh\",\"kWh\",\"kWh\",\"kWh\",\"kWh\"]}},\"id\":\"3a6e7c9a-fb3d-4533-9b73-fddb5591c5ec\",\"type\":\"ColumnDataSource\"},{\"attributes\":{\"callback\":null,\"formatters\":{\"pointtimestamp\":\"datetime\"},\"mode\":\"vline\",\"tooltips\":[[\"Date\",\"@pointtimestamp{%F %T}\"],[\"Value\",\"$y\"]]},\"id\":\"a01638f7-ed5b-497a-a996-5c931b08d283\",\"type\":\"HoverTool\"},{\"attributes\":{\"below\":[{\"id\":\"efd569d0-fdcc-4c60-90b1-3aff82d12185\",\"type\":\"DatetimeAxis\"}],\"left\":[{\"id\":\"8301d054-bce1-4a6e-986f-bddb8fef304e\",\"type\":\"LinearAxis\"}],\"plot_height\":400,\"plot_width\":400,\"renderers\":[{\"id\":\"efd569d0-fdcc-4c60-90b1-3aff82d12185\",\"type\":\"DatetimeAxis\"},{\"id\":\"19daf08d-be92-4e60-a660-f0f610f5f6b8\",\"type\":\"Grid\"},{\"id\":\"8301d054-bce1-4a6e-986f-bddb8fef304e\",\"type\":\"LinearAxis\"},{\"id\":\"b8c2ac7f-b1a2-40e3-8f30-2c73ccf8efe9\",\"type\":\"Grid\"},{\"id\":\"67ae30f4-99a2-4da9-9408-50373f80db3e\",\"type\":\"BoxAnnotation\"},{\"id\":\"56443d68-3ddf-4667-97f6-c706059bf8fa\",\"type\":\"PolyAnnotation\"},{\"id\":\"d6f58626-c1fe-433b-bfc6-a4ab875cb069\",\"type\":\"GlyphRenderer\"}],\"title\":{\"id\":\"cedd3209-7407-4a3e-98de-6a4df46e3028\",\"type\":\"Title\"},\"toolbar\":{\"id\":\"78606511-5657-4ac5-bdb9-4bdc711d1cf0\",\"type\":\"Toolbar\"},\"x_range\":{\"id\":\"627b4c3f-f3f9-4b26-9ca3-a11819e54abd\",\"type\":\"DataRange1d\"},\"x_scale\":{\"id\":\"23135fac-18ea-481e-95cd-e896d115357c\",\"type\":\"LinearScale\"},\"y_range\":{\"id\":\"12efb213-0fb1-4f81-9d89-ca674d7bb06c\",\"type\":\"DataRange1d\"},\"y_scale\":{\"id\":\"e53f28c0-6c54-4849-b3d0-91f8ac4b4f35\",\"type\":\"LinearScale\"}},\"id\":\"96f5953f-2d4e-4a84-9b09-60f83123e31b\",\"subtype\":\"Figure\",\"type\":\"Plot\"},{\"attributes\":{\"line_color\":\"#1f77b4\",\"x\":{\"field\":\"pointtimestamp\"},\"y\":{\"field\":\"pointvalue\"}},\"id\":\"43cd768c-7659-4f6f-ad1a-96e4439bfc68\",\"type\":\"Line\"},{\"attributes\":{\"callback\":null},\"id\":\"12efb213-0fb1-4f81-9d89-ca674d7bb06c\",\"type\":\"DataRange1d\"},{\"attributes\":{\"mantissas\":[1,2,5],\"max_interval\":500.0,\"num_minor_ticks\":0},\"id\":\"d66e6378-b85b-4db2-ad73-7eb229001334\",\"type\":\"AdaptiveTicker\"},{\"attributes\":{},\"id\":\"ef4fe945-4a8c-4208-a8f1-914acf962a36\",\"type\":\"BasicTicker\"},{\"attributes\":{\"callback\":null},\"id\":\"627b4c3f-f3f9-4b26-9ca3-a11819e54abd\",\"type\":\"DataRange1d\"}],\"root_ids\":[\"96f5953f-2d4e-4a84-9b09-60f83123e31b\"]},\"title\":\"Bokeh Application\",\"version\":\"0.12.14\"}};\n",
       "  var render_items = [{\"docid\":\"51dc97cd-80e1-47ad-baa5-469a55f9de2a\",\"elementid\":\"3c1d0cdd-f1a0-4e14-8481-0ff99165d280\",\"modelid\":\"96f5953f-2d4e-4a84-9b09-60f83123e31b\"}];\n",
       "  root.Bokeh.embed.embed_items_notebook(docs_json, render_items);\n",
       "\n",
       "  }\n",
       "  if (root.Bokeh !== undefined) {\n",
       "    embed_document(root);\n",
       "  } else {\n",
       "    var attempts = 0;\n",
       "    var timer = setInterval(function(root) {\n",
       "      if (root.Bokeh !== undefined) {\n",
       "        embed_document(root);\n",
       "        clearInterval(timer);\n",
       "      }\n",
       "      attempts++;\n",
       "      if (attempts > 100) {\n",
       "        console.log(\"Bokeh: ERROR: Unable to run BokehJS code because BokehJS library is missing\")\n",
       "        clearInterval(timer);\n",
       "      }\n",
       "    }, 10, root)\n",
       "  }\n",
       "})(window);"
      ],
      "application/vnd.bokehjs_exec.v0+json": ""
     },
     "metadata": {
      "application/vnd.bokehjs_exec.v0+json": {
       "id": "96f5953f-2d4e-4a84-9b09-60f83123e31b"
      }
     },
     "output_type": "display_data"
    }
   ],
   "source": [
    "show(p)"
   ]
  },
  {
   "cell_type": "code",
   "execution_count": null,
   "metadata": {},
   "outputs": [],
   "source": []
  }
 ],
 "metadata": {
  "kernelspec": {
   "display_name": "Python 3",
   "language": "python",
   "name": "python3"
  },
  "language_info": {
   "codemirror_mode": {
    "name": "ipython",
    "version": 3
   },
   "file_extension": ".py",
   "mimetype": "text/x-python",
   "name": "python",
   "nbconvert_exporter": "python",
   "pygments_lexer": "ipython3",
   "version": "3.6.4"
  }
 },
 "nbformat": 4,
 "nbformat_minor": 2
}
