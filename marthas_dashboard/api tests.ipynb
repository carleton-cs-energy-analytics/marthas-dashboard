{
 "cells": [
  {
   "cell_type": "code",
   "execution_count": 1,
   "metadata": {},
   "outputs": [],
   "source": [
    "from api import API\n",
    "import pandas as pd"
   ]
  },
  {
   "cell_type": "code",
   "execution_count": 2,
   "metadata": {},
   "outputs": [],
   "source": [
    "api = API()"
   ]
  },
  {
   "cell_type": "markdown",
   "metadata": {},
   "source": [
    "## Load / Merge Data"
   ]
  },
  {
   "cell_type": "code",
   "execution_count": 3,
   "metadata": {},
   "outputs": [],
   "source": [
    "bld = api.building('Hulings').id\n",
    "timestamp = '2017-08-18 00:45:00'\n",
    "\n",
    "# Load some data\n",
    "rooms = api.building_rooms(bld)\n",
    "points = api.building_points(bld)\n",
    "vals = api.building_values_at_time(bld, timestamp)"
   ]
  },
  {
   "cell_type": "code",
   "execution_count": 4,
   "metadata": {},
   "outputs": [],
   "source": [
    "# Remove room 6, the scary dummy room\n",
    "rooms = rooms[rooms['id'] != 6]"
   ]
  },
  {
   "cell_type": "code",
   "execution_count": 8,
   "metadata": {},
   "outputs": [],
   "source": [
    "# Merge df together\n",
    "df = pd.merge(points, rooms, left_on='roomid', right_on='id',\n",
    "              suffixes=('_point', '_room'))\n",
    "\n",
    "df= pd.merge(df, vals, left_on='id_point', right_on='pointid',)"
   ]
  },
  {
   "cell_type": "code",
   "execution_count": 10,
   "metadata": {},
   "outputs": [
    {
     "data": {
      "text/html": [
       "<div>\n",
       "<style scoped>\n",
       "    .dataframe tbody tr th:only-of-type {\n",
       "        vertical-align: middle;\n",
       "    }\n",
       "\n",
       "    .dataframe tbody tr th {\n",
       "        vertical-align: top;\n",
       "    }\n",
       "\n",
       "    .dataframe thead th {\n",
       "        text-align: right;\n",
       "    }\n",
       "</style>\n",
       "<table border=\"1\" class=\"dataframe\">\n",
       "  <thead>\n",
       "    <tr style=\"text-align: right;\">\n",
       "      <th></th>\n",
       "      <th>description</th>\n",
       "      <th>id_point</th>\n",
       "      <th>name_point</th>\n",
       "      <th>pointsourceid</th>\n",
       "      <th>pointtypeid</th>\n",
       "      <th>roomid</th>\n",
       "      <th>buildingid</th>\n",
       "      <th>id_room</th>\n",
       "      <th>name_room</th>\n",
       "      <th>factor</th>\n",
       "      <th>id</th>\n",
       "      <th>name</th>\n",
       "      <th>pointid</th>\n",
       "      <th>pointname</th>\n",
       "      <th>pointtimestamp</th>\n",
       "      <th>pointvalue</th>\n",
       "      <th>returntype</th>\n",
       "      <th>units</th>\n",
       "      <th>date</th>\n",
       "      <th>time</th>\n",
       "    </tr>\n",
       "  </thead>\n",
       "  <tbody>\n",
       "    <tr>\n",
       "      <th>0</th>\n",
       "      <td>112 RH VALVE</td>\n",
       "      <td>572</td>\n",
       "      <td>HU.R112.RHV</td>\n",
       "      <td>2</td>\n",
       "      <td>1</td>\n",
       "      <td>18</td>\n",
       "      <td>4</td>\n",
       "      <td>18</td>\n",
       "      <td>112</td>\n",
       "      <td>2</td>\n",
       "      <td>1</td>\n",
       "      <td>floatPSI2</td>\n",
       "      <td>572</td>\n",
       "      <td>HU.R112.RHV</td>\n",
       "      <td>2017-08-18 00:45:00</td>\n",
       "      <td>3.00</td>\n",
       "      <td>float</td>\n",
       "      <td>PSI</td>\n",
       "      <td>2017-08-18</td>\n",
       "      <td>00:45</td>\n",
       "    </tr>\n",
       "    <tr>\n",
       "      <th>1</th>\n",
       "      <td>112 TEMP</td>\n",
       "      <td>573</td>\n",
       "      <td>HU.R112.RM</td>\n",
       "      <td>2</td>\n",
       "      <td>13</td>\n",
       "      <td>18</td>\n",
       "      <td>4</td>\n",
       "      <td>18</td>\n",
       "      <td>112</td>\n",
       "      <td>2</td>\n",
       "      <td>13</td>\n",
       "      <td>floatDEG F2</td>\n",
       "      <td>573</td>\n",
       "      <td>HU.R112.RM</td>\n",
       "      <td>2017-08-18 00:45:00</td>\n",
       "      <td>70.92</td>\n",
       "      <td>float</td>\n",
       "      <td>DEG F</td>\n",
       "      <td>2017-08-18</td>\n",
       "      <td>00:45</td>\n",
       "    </tr>\n",
       "    <tr>\n",
       "      <th>2</th>\n",
       "      <td>112 TEMP</td>\n",
       "      <td>574</td>\n",
       "      <td>HU.R112.RMT</td>\n",
       "      <td>2</td>\n",
       "      <td>13</td>\n",
       "      <td>18</td>\n",
       "      <td>4</td>\n",
       "      <td>18</td>\n",
       "      <td>112</td>\n",
       "      <td>2</td>\n",
       "      <td>13</td>\n",
       "      <td>floatDEG F2</td>\n",
       "      <td>574</td>\n",
       "      <td>HU.R112.RMT</td>\n",
       "      <td>2017-08-18 00:45:00</td>\n",
       "      <td>70.92</td>\n",
       "      <td>float</td>\n",
       "      <td>DEG F</td>\n",
       "      <td>2017-08-18</td>\n",
       "      <td>00:45</td>\n",
       "    </tr>\n",
       "  </tbody>\n",
       "</table>\n",
       "</div>"
      ],
      "text/plain": [
       "    description  id_point   name_point  pointsourceid  pointtypeid  roomid  \\\n",
       "0  112 RH VALVE       572  HU.R112.RHV              2            1      18   \n",
       "1      112 TEMP       573   HU.R112.RM              2           13      18   \n",
       "2      112 TEMP       574  HU.R112.RMT              2           13      18   \n",
       "\n",
       "   buildingid  id_room name_room  factor  id         name  pointid  \\\n",
       "0           4       18       112       2   1    floatPSI2      572   \n",
       "1           4       18       112       2  13  floatDEG F2      573   \n",
       "2           4       18       112       2  13  floatDEG F2      574   \n",
       "\n",
       "     pointname      pointtimestamp  pointvalue returntype  units        date  \\\n",
       "0  HU.R112.RHV 2017-08-18 00:45:00        3.00      float    PSI  2017-08-18   \n",
       "1   HU.R112.RM 2017-08-18 00:45:00       70.92      float  DEG F  2017-08-18   \n",
       "2  HU.R112.RMT 2017-08-18 00:45:00       70.92      float  DEG F  2017-08-18   \n",
       "\n",
       "    time  \n",
       "0  00:45  \n",
       "1  00:45  \n",
       "2  00:45  "
      ]
     },
     "execution_count": 10,
     "metadata": {},
     "output_type": "execute_result"
    }
   ],
   "source": [
    "df.head(n=3)"
   ]
  },
  {
   "cell_type": "markdown",
   "metadata": {},
   "source": [
    "## Attempt to tag specific points"
   ]
  },
  {
   "cell_type": "code",
   "execution_count": 11,
   "metadata": {},
   "outputs": [],
   "source": [
    "df['tag'] = 'none'\n",
    "\n",
    "# Tag 'valve' based on description\n",
    "df_valve = df[df['description'].str.find('VALVE') > 0]\n",
    "df.loc[df_valve.index, 'tag'] = 'valve'\n",
    "\n",
    "# Tag 'temp' based on point name\n",
    "df_temp = df[df['name_point'].str.find('.RM') > 0]\n",
    "df.loc[df_temp.index, 'tag'] = 'temp1 (RM)'\n",
    "\n",
    "df_temp = df[df['name_point'].str.find('.RMT') > 0]\n",
    "df.loc[df_temp.index, 'tag'] = 'temp2 (RMT)'"
   ]
  },
  {
   "cell_type": "code",
   "execution_count": 12,
   "metadata": {},
   "outputs": [
    {
     "data": {
      "text/html": [
       "<div>\n",
       "<style scoped>\n",
       "    .dataframe tbody tr th:only-of-type {\n",
       "        vertical-align: middle;\n",
       "    }\n",
       "\n",
       "    .dataframe tbody tr th {\n",
       "        vertical-align: top;\n",
       "    }\n",
       "\n",
       "    .dataframe thead th {\n",
       "        text-align: right;\n",
       "    }\n",
       "</style>\n",
       "<table border=\"1\" class=\"dataframe\">\n",
       "  <thead>\n",
       "    <tr style=\"text-align: right;\">\n",
       "      <th></th>\n",
       "      <th>name_room</th>\n",
       "      <th>temp1 (RM)</th>\n",
       "      <th>temp2 (RMT)</th>\n",
       "      <th>valve</th>\n",
       "    </tr>\n",
       "  </thead>\n",
       "  <tbody>\n",
       "    <tr>\n",
       "      <th>0</th>\n",
       "      <td>102</td>\n",
       "      <td>73.39</td>\n",
       "      <td>73.39</td>\n",
       "      <td>12.0</td>\n",
       "    </tr>\n",
       "    <tr>\n",
       "      <th>1</th>\n",
       "      <td>112</td>\n",
       "      <td>70.92</td>\n",
       "      <td>70.92</td>\n",
       "      <td>3.0</td>\n",
       "    </tr>\n",
       "    <tr>\n",
       "      <th>2</th>\n",
       "      <td>121</td>\n",
       "      <td>70.61</td>\n",
       "      <td>70.61</td>\n",
       "      <td>9.0</td>\n",
       "    </tr>\n",
       "    <tr>\n",
       "      <th>3</th>\n",
       "      <td>202</td>\n",
       "      <td>69.60</td>\n",
       "      <td>71.01</td>\n",
       "      <td>15.0</td>\n",
       "    </tr>\n",
       "    <tr>\n",
       "      <th>4</th>\n",
       "      <td>203</td>\n",
       "      <td>67.65</td>\n",
       "      <td>67.65</td>\n",
       "      <td>9.0</td>\n",
       "    </tr>\n",
       "    <tr>\n",
       "      <th>5</th>\n",
       "      <td>206</td>\n",
       "      <td>69.10</td>\n",
       "      <td>69.10</td>\n",
       "      <td>9.0</td>\n",
       "    </tr>\n",
       "    <tr>\n",
       "      <th>6</th>\n",
       "      <td>207</td>\n",
       "      <td>76.93</td>\n",
       "      <td>76.93</td>\n",
       "      <td>9.0</td>\n",
       "    </tr>\n",
       "    <tr>\n",
       "      <th>7</th>\n",
       "      <td>212</td>\n",
       "      <td>72.18</td>\n",
       "      <td>72.18</td>\n",
       "      <td>3.0</td>\n",
       "    </tr>\n",
       "    <tr>\n",
       "      <th>8</th>\n",
       "      <td>213</td>\n",
       "      <td>71.60</td>\n",
       "      <td>71.60</td>\n",
       "      <td>9.0</td>\n",
       "    </tr>\n",
       "    <tr>\n",
       "      <th>9</th>\n",
       "      <td>215</td>\n",
       "      <td>69.11</td>\n",
       "      <td>69.11</td>\n",
       "      <td>9.0</td>\n",
       "    </tr>\n",
       "  </tbody>\n",
       "</table>\n",
       "</div>"
      ],
      "text/plain": [
       "  name_room  temp1 (RM)  temp2 (RMT)  valve\n",
       "0       102       73.39        73.39   12.0\n",
       "1       112       70.92        70.92    3.0\n",
       "2       121       70.61        70.61    9.0\n",
       "3       202       69.60        71.01   15.0\n",
       "4       203       67.65        67.65    9.0\n",
       "5       206       69.10        69.10    9.0\n",
       "6       207       76.93        76.93    9.0\n",
       "7       212       72.18        72.18    3.0\n",
       "8       213       71.60        71.60    9.0\n",
       "9       215       69.11        69.11    9.0"
      ]
     },
     "execution_count": 12,
     "metadata": {},
     "output_type": "execute_result"
    }
   ],
   "source": [
    "# View DF where tag is not \"none\n",
    "view_df = df.query('tag != \"none\"')\n",
    "\n",
    "# Pivot \n",
    "view_df = (view_df.pivot(index='name_room', columns='tag',\n",
    "                        values='pointvalue')\n",
    "           .reset_index().rename_axis(None, axis=1))\n",
    "\n",
    "view_df"
   ]
  },
  {
   "cell_type": "code",
   "execution_count": 14,
   "metadata": {},
   "outputs": [
    {
     "name": "stdout",
     "output_type": "stream",
     "text": [
      "102\n",
      "112\n",
      "121\n",
      "202\n",
      "203\n",
      "206\n",
      "207\n",
      "212\n",
      "213\n",
      "215\n"
     ]
    }
   ],
   "source": [
    "for idx, row in view_df.iterrows():\n",
    "    print(row.name_room)"
   ]
  },
  {
   "cell_type": "code",
   "execution_count": 13,
   "metadata": {},
   "outputs": [
    {
     "data": {
      "text/plain": [
       "'<table border=\"1\" class=\"dataframe\">\\n  <thead>\\n    <tr style=\"text-align: right;\">\\n      <th></th>\\n      <th>name_room</th>\\n      <th>temp1 (RM)</th>\\n      <th>temp2 (RMT)</th>\\n      <th>valve</th>\\n    </tr>\\n  </thead>\\n  <tbody>\\n    <tr>\\n      <th>0</th>\\n      <td>102</td>\\n      <td>73.39</td>\\n      <td>73.39</td>\\n      <td>12.0</td>\\n    </tr>\\n    <tr>\\n      <th>1</th>\\n      <td>112</td>\\n      <td>70.92</td>\\n      <td>70.92</td>\\n      <td>3.0</td>\\n    </tr>\\n    <tr>\\n      <th>2</th>\\n      <td>121</td>\\n      <td>70.61</td>\\n      <td>70.61</td>\\n      <td>9.0</td>\\n    </tr>\\n    <tr>\\n      <th>3</th>\\n      <td>202</td>\\n      <td>69.60</td>\\n      <td>71.01</td>\\n      <td>15.0</td>\\n    </tr>\\n    <tr>\\n      <th>4</th>\\n      <td>203</td>\\n      <td>67.65</td>\\n      <td>67.65</td>\\n      <td>9.0</td>\\n    </tr>\\n    <tr>\\n      <th>5</th>\\n      <td>206</td>\\n      <td>69.10</td>\\n      <td>69.10</td>\\n      <td>9.0</td>\\n    </tr>\\n    <tr>\\n      <th>6</th>\\n      <td>207</td>\\n      <td>76.93</td>\\n      <td>76.93</td>\\n      <td>9.0</td>\\n    </tr>\\n    <tr>\\n      <th>7</th>\\n      <td>212</td>\\n      <td>72.18</td>\\n      <td>72.18</td>\\n      <td>3.0</td>\\n    </tr>\\n    <tr>\\n      <th>8</th>\\n      <td>213</td>\\n      <td>71.60</td>\\n      <td>71.60</td>\\n      <td>9.0</td>\\n    </tr>\\n    <tr>\\n      <th>9</th>\\n      <td>215</td>\\n      <td>69.11</td>\\n      <td>69.11</td>\\n      <td>9.0</td>\\n    </tr>\\n  </tbody>\\n</table>'"
      ]
     },
     "execution_count": 13,
     "metadata": {},
     "output_type": "execute_result"
    }
   ],
   "source": [
    "view_df.to_html()"
   ]
  },
  {
   "cell_type": "code",
   "execution_count": null,
   "metadata": {},
   "outputs": [],
   "source": []
  },
  {
   "cell_type": "code",
   "execution_count": null,
   "metadata": {},
   "outputs": [],
   "source": []
  },
  {
   "cell_type": "code",
   "execution_count": null,
   "metadata": {},
   "outputs": [],
   "source": []
  },
  {
   "cell_type": "code",
   "execution_count": null,
   "metadata": {},
   "outputs": [],
   "source": []
  },
  {
   "cell_type": "code",
   "execution_count": null,
   "metadata": {},
   "outputs": [],
   "source": []
  },
  {
   "cell_type": "code",
   "execution_count": null,
   "metadata": {},
   "outputs": [],
   "source": []
  },
  {
   "cell_type": "code",
   "execution_count": null,
   "metadata": {},
   "outputs": [],
   "source": []
  },
  {
   "cell_type": "code",
   "execution_count": null,
   "metadata": {},
   "outputs": [],
   "source": [
    "def get_rooms_points(buildings):\n",
    "    \"\"\"maps building ids to their points and rooms,\n",
    "    ie {4:{'rooms':{5}}}\"\"\"\n",
    "    result = {}\n",
    "    for building_id, name in buildings.items():\n",
    "        building_data = {\n",
    "            'rooms': map_rooms(api.building_rooms(building_id)),\n",
    "            'points': map_points(api.building_points(building_id))\n",
    "        }\n",
    "        result[building_id] = building_data\n",
    "    return result\n",
    "\n",
    "def map_points(points):\n",
    "    \"\"\"Take a pandas df returned from building_points\n",
    "    and turn it into something easier to use on the frontend\n",
    "    \"\"\"\n",
    "    results = {}\n",
    "    for index, row in points.iterrows():\n",
    "        results[row['id']] = row['name'] + '- ' + row['description']\n",
    "    return results\n",
    "\n",
    "\n",
    "def map_rooms(rooms):\n",
    "    \"\"\"Similar to the map_points function but for rooms\"\"\"\n",
    "    results = {}\n",
    "    for index, row in rooms.iterrows():\n",
    "        results[row['id']] = row['name'].replace(\"_\", \" \")\n",
    "    return results"
   ]
  }
 ],
 "metadata": {
  "kernelspec": {
   "display_name": "Python 3",
   "language": "python",
   "name": "python3"
  },
  "language_info": {
   "codemirror_mode": {
    "name": "ipython",
    "version": 3
   },
   "file_extension": ".py",
   "mimetype": "text/x-python",
   "name": "python",
   "nbconvert_exporter": "python",
   "pygments_lexer": "ipython3",
   "version": "3.6.4"
  }
 },
 "nbformat": 4,
 "nbformat_minor": 2
}
